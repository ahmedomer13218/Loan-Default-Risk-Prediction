{
  "nbformat": 4,
  "nbformat_minor": 0,
  "metadata": {
    "colab": {
      "provenance": []
    },
    "kernelspec": {
      "name": "python3",
      "display_name": "Python 3"
    },
    "language_info": {
      "name": "python"
    }
  },
  "cells": [
    {
      "cell_type": "markdown",
      "source": [
        "# Set Up Pyspark"
      ],
      "metadata": {
        "id": "HZ5Yxb12I1JB"
      }
    },
    {
      "cell_type": "code",
      "execution_count": null,
      "metadata": {
        "colab": {
          "base_uri": "https://localhost:8080/"
        },
        "id": "JkFWDl6AysmT",
        "outputId": "3011f204-04cb-4a56-d1f4-0c7c28f18753"
      },
      "outputs": [
        {
          "output_type": "stream",
          "name": "stdout",
          "text": [
            "Requirement already satisfied: pyspark in /usr/local/lib/python3.11/dist-packages (3.5.5)\n",
            "Requirement already satisfied: py4j==0.10.9.7 in /usr/local/lib/python3.11/dist-packages (from pyspark) (0.10.9.7)\n",
            "Collecting findspark\n",
            "  Downloading findspark-2.0.1-py2.py3-none-any.whl.metadata (352 bytes)\n",
            "Downloading findspark-2.0.1-py2.py3-none-any.whl (4.4 kB)\n",
            "Installing collected packages: findspark\n",
            "Successfully installed findspark-2.0.1\n"
          ]
        }
      ],
      "source": [
        "!pip install pyspark\n",
        "!pip install findspark"
      ]
    },
    {
      "cell_type": "code",
      "source": [
        "import findspark\n",
        "findspark.init()"
      ],
      "metadata": {
        "id": "aZlRk9950rH9"
      },
      "execution_count": null,
      "outputs": []
    },
    {
      "cell_type": "code",
      "source": [
        "from pyspark.sql import SparkSession\n",
        "from pyspark.conf import SparkConf"
      ],
      "metadata": {
        "id": "39lD5twf0xS3"
      },
      "execution_count": null,
      "outputs": []
    },
    {
      "cell_type": "code",
      "source": [
        "spark=SparkSession.builder\\\n",
        "    .master(\"local[*]\")\\\n",
        "    .appName(\"Encoding_Outliers_FeatureSelection\")\\\n",
        "    .getOrCreate()"
      ],
      "metadata": {
        "id": "fP3gEZHo0zDz"
      },
      "execution_count": null,
      "outputs": []
    },
    {
      "cell_type": "markdown",
      "source": [
        "# Load Data"
      ],
      "metadata": {
        "id": "KS8NCvl2JQZU"
      }
    },
    {
      "cell_type": "code",
      "source": [
        "from google.colab import drive\n",
        "drive.mount('/content/drive')"
      ],
      "metadata": {
        "colab": {
          "base_uri": "https://localhost:8080/"
        },
        "id": "acVdIjW_02Rt",
        "outputId": "bf21ea71-8d5c-4ce3-c41a-f9cae86366da"
      },
      "execution_count": null,
      "outputs": [
        {
          "output_type": "stream",
          "name": "stdout",
          "text": [
            "Mounted at /content/drive\n"
          ]
        }
      ]
    },
    {
      "cell_type": "code",
      "source": [
        "df = spark.read.option(\"header\", \"true\").csv('/content/drive/MyDrive/Data/merged_application.csv')"
      ],
      "metadata": {
        "id": "Lkn2zWzS13WA"
      },
      "execution_count": null,
      "outputs": []
    },
    {
      "cell_type": "code",
      "source": [
        "print(df.count(), len(df.columns))"
      ],
      "metadata": {
        "colab": {
          "base_uri": "https://localhost:8080/"
        },
        "id": "VplbmNNo82HY",
        "outputId": "30d8f3c8-421b-4793-a75e-59f57add3f83"
      },
      "execution_count": null,
      "outputs": [
        {
          "output_type": "stream",
          "name": "stdout",
          "text": [
            "232196 104\n"
          ]
        }
      ]
    },
    {
      "cell_type": "markdown",
      "source": [
        "# Select The Important Features from curr_features.sh file after checking and EDA Phaze"
      ],
      "metadata": {
        "id": "2etDQhfjJg30"
      }
    },
    {
      "cell_type": "code",
      "source": [
        "print(df.printSchema())"
      ],
      "metadata": {
        "colab": {
          "base_uri": "https://localhost:8080/"
        },
        "id": "3v2rae3d1bTb",
        "outputId": "d244a120-dddf-4d30-a533-894b7c1a7db3"
      },
      "execution_count": null,
      "outputs": [
        {
          "output_type": "stream",
          "name": "stdout",
          "text": [
            "root\n",
            " |-- SK_ID_CURR: string (nullable = true)\n",
            " |-- TARGET: string (nullable = true)\n",
            " |-- NAME_CONTRACT_TYPE: string (nullable = true)\n",
            " |-- CODE_GENDER: string (nullable = true)\n",
            " |-- FLAG_OWN_CAR: string (nullable = true)\n",
            " |-- FLAG_OWN_REALTY: string (nullable = true)\n",
            " |-- CNT_CHILDREN: string (nullable = true)\n",
            " |-- AMT_INCOME_TOTAL: string (nullable = true)\n",
            " |-- AMT_CREDIT: string (nullable = true)\n",
            " |-- AMT_ANNUITY: string (nullable = true)\n",
            " |-- AMT_GOODS_PRICE: string (nullable = true)\n",
            " |-- NAME_TYPE_SUITE: string (nullable = true)\n",
            " |-- NAME_INCOME_TYPE: string (nullable = true)\n",
            " |-- NAME_EDUCATION_TYPE: string (nullable = true)\n",
            " |-- NAME_FAMILY_STATUS: string (nullable = true)\n",
            " |-- NAME_HOUSING_TYPE: string (nullable = true)\n",
            " |-- REGION_POPULATION_RELATIVE: string (nullable = true)\n",
            " |-- DAYS_BIRTH: string (nullable = true)\n",
            " |-- DAYS_EMPLOYED: string (nullable = true)\n",
            " |-- DAYS_REGISTRATION: string (nullable = true)\n",
            " |-- DAYS_ID_PUBLISH: string (nullable = true)\n",
            " |-- FLAG_MOBIL: string (nullable = true)\n",
            " |-- FLAG_EMP_PHONE: string (nullable = true)\n",
            " |-- FLAG_WORK_PHONE: string (nullable = true)\n",
            " |-- FLAG_CONT_MOBILE: string (nullable = true)\n",
            " |-- FLAG_PHONE: string (nullable = true)\n",
            " |-- FLAG_EMAIL: string (nullable = true)\n",
            " |-- CNT_FAM_MEMBERS: string (nullable = true)\n",
            " |-- REGION_RATING_CLIENT: string (nullable = true)\n",
            " |-- REGION_RATING_CLIENT_W_CITY: string (nullable = true)\n",
            " |-- WEEKDAY_APPR_PROCESS_START: string (nullable = true)\n",
            " |-- HOUR_APPR_PROCESS_START: string (nullable = true)\n",
            " |-- REG_REGION_NOT_LIVE_REGION: string (nullable = true)\n",
            " |-- REG_REGION_NOT_WORK_REGION: string (nullable = true)\n",
            " |-- LIVE_REGION_NOT_WORK_REGION: string (nullable = true)\n",
            " |-- REG_CITY_NOT_LIVE_CITY: string (nullable = true)\n",
            " |-- REG_CITY_NOT_WORK_CITY: string (nullable = true)\n",
            " |-- LIVE_CITY_NOT_WORK_CITY: string (nullable = true)\n",
            " |-- ORGANIZATION_TYPE: string (nullable = true)\n",
            " |-- EXT_SOURCE_2: string (nullable = true)\n",
            " |-- EXT_SOURCE_3: string (nullable = true)\n",
            " |-- OBS_30_CNT_SOCIAL_CIRCLE: string (nullable = true)\n",
            " |-- DEF_30_CNT_SOCIAL_CIRCLE: string (nullable = true)\n",
            " |-- OBS_60_CNT_SOCIAL_CIRCLE: string (nullable = true)\n",
            " |-- DEF_60_CNT_SOCIAL_CIRCLE: string (nullable = true)\n",
            " |-- DAYS_LAST_PHONE_CHANGE: string (nullable = true)\n",
            " |-- FLAG_DOCUMENT_2: string (nullable = true)\n",
            " |-- FLAG_DOCUMENT_3: string (nullable = true)\n",
            " |-- FLAG_DOCUMENT_4: string (nullable = true)\n",
            " |-- FLAG_DOCUMENT_5: string (nullable = true)\n",
            " |-- FLAG_DOCUMENT_6: string (nullable = true)\n",
            " |-- FLAG_DOCUMENT_7: string (nullable = true)\n",
            " |-- FLAG_DOCUMENT_8: string (nullable = true)\n",
            " |-- FLAG_DOCUMENT_9: string (nullable = true)\n",
            " |-- FLAG_DOCUMENT_10: string (nullable = true)\n",
            " |-- FLAG_DOCUMENT_11: string (nullable = true)\n",
            " |-- FLAG_DOCUMENT_12: string (nullable = true)\n",
            " |-- FLAG_DOCUMENT_13: string (nullable = true)\n",
            " |-- FLAG_DOCUMENT_14: string (nullable = true)\n",
            " |-- FLAG_DOCUMENT_15: string (nullable = true)\n",
            " |-- FLAG_DOCUMENT_16: string (nullable = true)\n",
            " |-- FLAG_DOCUMENT_17: string (nullable = true)\n",
            " |-- FLAG_DOCUMENT_18: string (nullable = true)\n",
            " |-- FLAG_DOCUMENT_19: string (nullable = true)\n",
            " |-- FLAG_DOCUMENT_20: string (nullable = true)\n",
            " |-- FLAG_DOCUMENT_21: string (nullable = true)\n",
            " |-- AMT_REQ_CREDIT_BUREAU_HOUR: string (nullable = true)\n",
            " |-- AMT_REQ_CREDIT_BUREAU_DAY: string (nullable = true)\n",
            " |-- AMT_REQ_CREDIT_BUREAU_WEEK: string (nullable = true)\n",
            " |-- AMT_REQ_CREDIT_BUREAU_MON: string (nullable = true)\n",
            " |-- AMT_REQ_CREDIT_BUREAU_QRT: string (nullable = true)\n",
            " |-- AMT_REQ_CREDIT_BUREAU_YEAR: string (nullable = true)\n",
            " |-- PREV_COUNT: string (nullable = true)\n",
            " |-- PREV_AVG_AMT_ANNUITY: string (nullable = true)\n",
            " |-- PREV_AVG_AMT_APPLICATION: string (nullable = true)\n",
            " |-- PREV_AVG_AMT_CREDIT: string (nullable = true)\n",
            " |-- PREV_AVG_GOODS_APP_RATIO: string (nullable = true)\n",
            " |-- PREV_AVG_DAYS_DECISION: string (nullable = true)\n",
            " |-- PREV_AVG_CNT_PAYMENT: string (nullable = true)\n",
            " |-- PREV_AVG_HOUR_APPR_PROCESS_START: string (nullable = true)\n",
            " |-- REFUSED_STATUS_COUNT: string (nullable = true)\n",
            " |-- APPROVED_STATUS_COUNT: string (nullable = true)\n",
            " |-- Consumer loans: string (nullable = true)\n",
            " |-- Revolving loans: string (nullable = true)\n",
            " |-- Cash loans: string (nullable = true)\n",
            " |-- XAP: string (nullable = true)\n",
            " |-- HC: string (nullable = true)\n",
            " |-- LIMIT: string (nullable = true)\n",
            " |-- Refreshed: string (nullable = true)\n",
            " |-- Repeater: string (nullable = true)\n",
            " |-- POS: string (nullable = true)\n",
            " |-- Cash_x: string (nullable = true)\n",
            " |-- Cards: string (nullable = true)\n",
            " |-- Credit and cash offices: string (nullable = true)\n",
            " |-- Country-wide: string (nullable = true)\n",
            " |-- Stone: string (nullable = true)\n",
            " |-- Cash: string (nullable = true)\n",
            " |-- POS household with interest: string (nullable = true)\n",
            " |-- POS mobile with interest: string (nullable = true)\n",
            " |-- ZERO_NFLAG_LAST_APPL_IN_DAY: string (nullable = true)\n",
            " |-- ZERO_FLAG_LAST_APPL_PER_CONTRACT: string (nullable = true)\n",
            " |-- XAP_NAME_CASH_LOAN_PURPOSE: string (nullable = true)\n",
            " |-- Other_NAME_CASH_LOAN_PURPOSE: string (nullable = true)\n",
            " |-- PREV_AVG_NAME_YIELD_GROUP: string (nullable = true)\n",
            "\n",
            "None\n"
          ]
        }
      ]
    },
    {
      "cell_type": "code",
      "source": [
        "features = [\n",
        "    'TARGET', 'NAME_CONTRACT_TYPE', 'CODE_GENDER', 'FLAG_OWN_CAR', 'FLAG_OWN_REALTY',\n",
        "    'CNT_CHILDREN', 'AMT_INCOME_TOTAL', 'AMT_CREDIT', 'AMT_ANNUITY', 'AMT_GOODS_PRICE',\n",
        "    'NAME_INCOME_TYPE', 'NAME_EDUCATION_TYPE', 'NAME_FAMILY_STATUS', 'NAME_HOUSING_TYPE',\n",
        "    'REGION_POPULATION_RELATIVE', 'DAYS_BIRTH', 'DAYS_EMPLOYED', 'DAYS_REGISTRATION',\n",
        "    'DAYS_ID_PUBLISH', 'FLAG_MOBIL', 'FLAG_EMP_PHONE', 'FLAG_WORK_PHONE', 'FLAG_CONT_MOBILE',\n",
        "    'FLAG_PHONE', 'FLAG_EMAIL', 'CNT_FAM_MEMBERS', 'REGION_RATING_CLIENT',\n",
        "    'REGION_RATING_CLIENT_W_CITY', 'WEEKDAY_APPR_PROCESS_START', 'HOUR_APPR_PROCESS_START',\n",
        "    'REG_REGION_NOT_LIVE_REGION', 'REG_REGION_NOT_WORK_REGION', 'LIVE_REGION_NOT_WORK_REGION',\n",
        "    'REG_CITY_NOT_LIVE_CITY', 'REG_CITY_NOT_WORK_CITY', 'LIVE_CITY_NOT_WORK_CITY',\n",
        "    'ORGANIZATION_TYPE', 'OBS_30_CNT_SOCIAL_CIRCLE', 'DEF_30_CNT_SOCIAL_CIRCLE',\n",
        "    'OBS_60_CNT_SOCIAL_CIRCLE', 'DEF_60_CNT_SOCIAL_CIRCLE', 'DAYS_LAST_PHONE_CHANGE',\n",
        "    'FLAG_DOCUMENT_2', 'FLAG_DOCUMENT_3', 'FLAG_DOCUMENT_4', 'FLAG_DOCUMENT_5', 'FLAG_DOCUMENT_6',\n",
        "    'FLAG_DOCUMENT_7', 'FLAG_DOCUMENT_8', 'FLAG_DOCUMENT_9', 'FLAG_DOCUMENT_10', 'FLAG_DOCUMENT_11',\n",
        "    'FLAG_DOCUMENT_12', 'FLAG_DOCUMENT_13', 'FLAG_DOCUMENT_14', 'FLAG_DOCUMENT_15', 'FLAG_DOCUMENT_16',\n",
        "    'FLAG_DOCUMENT_17', 'FLAG_DOCUMENT_18', 'FLAG_DOCUMENT_19', 'FLAG_DOCUMENT_20', 'FLAG_DOCUMENT_21',\n",
        "    'AMT_REQ_CREDIT_BUREAU_HOUR', 'AMT_REQ_CREDIT_BUREAU_DAY', 'AMT_REQ_CREDIT_BUREAU_WEEK',\n",
        "    'AMT_REQ_CREDIT_BUREAU_MON', 'AMT_REQ_CREDIT_BUREAU_QRT', 'AMT_REQ_CREDIT_BUREAU_YEAR',\n",
        "    'PREV_COUNT', 'PREV_AVG_AMT_ANNUITY', 'PREV_AVG_AMT_APPLICATION', 'PREV_AVG_AMT_CREDIT',\n",
        "    'PREV_AVG_GOODS_APP_RATIO', 'PREV_AVG_DAYS_DECISION', 'PREV_AVG_CNT_PAYMENT',\n",
        "    'PREV_AVG_HOUR_APPR_PROCESS_START', 'REFUSED_STATUS_COUNT', 'APPROVED_STATUS_COUNT',\n",
        "    'Consumer loans', 'Revolving loans', 'Cash loans', 'XAP', 'HC', 'LIMIT',\n",
        "    'Refreshed', 'Repeater', 'POS', 'Cash_x', 'Cards', 'Credit and cash offices',\n",
        "    'Country-wide', 'Stone', 'Cash', 'POS household with interest',\n",
        "    'POS mobile with interest', 'ZERO_NFLAG_LAST_APPL_IN_DAY',\n",
        "    'ZERO_FLAG_LAST_APPL_PER_CONTRACT', 'XAP_NAME_CASH_LOAN_PURPOSE',\n",
        "    'Other_NAME_CASH_LOAN_PURPOSE', 'PREV_AVG_NAME_YIELD_GROUP'\n",
        "]\n",
        "len(features)"
      ],
      "metadata": {
        "colab": {
          "base_uri": "https://localhost:8080/"
        },
        "id": "MUc7XEgFztYo",
        "outputId": "acfde6bf-d3a5-4298-86cf-c6defe98151a"
      },
      "execution_count": null,
      "outputs": [
        {
          "output_type": "execute_result",
          "data": {
            "text/plain": [
              "100"
            ]
          },
          "metadata": {},
          "execution_count": 9
        }
      ]
    },
    {
      "cell_type": "code",
      "source": [
        "df = df.select(features)"
      ],
      "metadata": {
        "id": "O_qVFDXX1TX3"
      },
      "execution_count": null,
      "outputs": []
    },
    {
      "cell_type": "code",
      "source": [
        "print(df.count(), len(df.columns))"
      ],
      "metadata": {
        "colab": {
          "base_uri": "https://localhost:8080/"
        },
        "id": "5XmzKaLv9Sby",
        "outputId": "bc319cf0-3184-45f0-c805-ddd91c84aaf9"
      },
      "execution_count": null,
      "outputs": [
        {
          "output_type": "stream",
          "name": "stdout",
          "text": [
            "232196 100\n"
          ]
        }
      ]
    },
    {
      "cell_type": "markdown",
      "source": [
        "# Encoding  using (curr_application_features_encoding_methods.txt) file"
      ],
      "metadata": {
        "id": "9sHEMRTP1y-q"
      }
    },
    {
      "cell_type": "code",
      "source": [
        "from pyspark.sql import functions as F"
      ],
      "metadata": {
        "id": "yRDJ3qzQ2PHT"
      },
      "execution_count": null,
      "outputs": []
    },
    {
      "cell_type": "code",
      "source": [
        "df = df \\\n",
        "    .withColumn('NAME_CONTRACT_TYPE', F.when(F.col('NAME_CONTRACT_TYPE') == 'Cash loans', 1)\n",
        "                                         .when(F.col('NAME_CONTRACT_TYPE') == 'Revolving loans', 0)\n",
        "                                         .otherwise(None)) \\\n",
        "    .withColumn('CODE_GENDER', F.when(F.col('CODE_GENDER').isin('M', 'XNA'), 1)\n",
        "                                .when(F.col('CODE_GENDER') == 'F', 0)\n",
        "                                .otherwise(None)) \\\n",
        "    .withColumn('FLAG_OWN_CAR', F.when(F.col('FLAG_OWN_CAR') == 'Y', 1)\n",
        "                                 .when(F.col('FLAG_OWN_CAR') == 'N', 0)\n",
        "                                 .otherwise(None)) \\\n",
        "    .withColumn('FLAG_OWN_REALTY', F.when(F.col('FLAG_OWN_REALTY') == 'Y', 1)\n",
        "                                    .when(F.col('FLAG_OWN_REALTY') == 'N', 0)\n",
        "                                    .otherwise(None))"
      ],
      "metadata": {
        "id": "27nofFQ111OW"
      },
      "execution_count": null,
      "outputs": []
    },
    {
      "cell_type": "code",
      "source": [
        "from pyspark.sql.functions import count,col\n",
        "\n",
        "total_count = df.count()\n",
        "\n",
        "# Calculate the count of each unique value in the 'NAME_INCOME_TYPE' column\n",
        "income_type_counts = df.groupBy(\"NAME_INCOME_TYPE\").agg(count(\"*\").alias(\"count\"))\n",
        "\n",
        "# Calculate the percentage of each unique value\n",
        "income_type_percentages = income_type_counts.withColumn(\n",
        "    \"percentage\", (col(\"count\") / total_count) * 100\n",
        ")\n",
        "\n",
        "# Display the results\n",
        "income_type_percentages.show()\n"
      ],
      "metadata": {
        "colab": {
          "base_uri": "https://localhost:8080/"
        },
        "id": "yCHwK7hQ11K1",
        "outputId": "f7f6b85c-38e8-4a6d-a22a-19a7ce45dee8"
      },
      "execution_count": null,
      "outputs": [
        {
          "output_type": "stream",
          "name": "stdout",
          "text": [
            "+--------------------+------+-------------------+\n",
            "|    NAME_INCOME_TYPE| count|         percentage|\n",
            "+--------------------+------+-------------------+\n",
            "|             Student|    10|0.00430670640321108|\n",
            "|Commercial associate| 51822|  22.31821392272046|\n",
            "|       State servant| 17486|  7.530706816654894|\n",
            "|             Working|121016| 52.118038209099204|\n",
            "|           Pensioner| 41861|   18.0283036744819|\n",
            "|          Unemployed|     1|4.30670640321108E-4|\n",
            "+--------------------+------+-------------------+\n",
            "\n"
          ]
        }
      ]
    },
    {
      "cell_type": "code",
      "source": [
        "df = df \\\n",
        "    .withColumn('NAME_INCOME_TYPE_Commercial_associate',\n",
        "                F.when(F.col('NAME_INCOME_TYPE') == 'Commercial associate', 1).otherwise(0)) \\\n",
        "    .withColumn('NAME_INCOME_TYPE_Pensioner',\n",
        "                F.when(F.col('NAME_INCOME_TYPE') == 'Pensioner', 1).otherwise(0)) \\\n",
        "    .withColumn('NAME_INCOME_TYPE_Working',\n",
        "                F.when(F.col('NAME_INCOME_TYPE') == 'Working', 1).otherwise(0))"
      ],
      "metadata": {
        "id": "1qWbOgMW11Ir"
      },
      "execution_count": null,
      "outputs": []
    },
    {
      "cell_type": "code",
      "source": [
        "df = df.drop(\"NAME_INCOME_TYPE\")"
      ],
      "metadata": {
        "id": "tmADSrxH6Yvh"
      },
      "execution_count": null,
      "outputs": []
    },
    {
      "cell_type": "code",
      "source": [
        "df = df.withColumn(\n",
        "    'NAME_EDUCATION_TYPE_encoded',\n",
        "    F.when(F.col('NAME_EDUCATION_TYPE') == 'Secondary / secondary special', 1)\n",
        "     .when(F.col('NAME_EDUCATION_TYPE') == 'Higher education', 3)\n",
        "     .when(F.col('NAME_EDUCATION_TYPE') == 'Incomplete higher', 2)\n",
        "     .when(F.col('NAME_EDUCATION_TYPE') == 'Lower secondary', 0)\n",
        "     .when(F.col('NAME_EDUCATION_TYPE') == 'Academic degree', 4)\n",
        "     .otherwise(None)\n",
        ")"
      ],
      "metadata": {
        "id": "7TMHGaMa11G3"
      },
      "execution_count": null,
      "outputs": []
    },
    {
      "cell_type": "code",
      "source": [
        "df = df.drop(\"NAME_EDUCATION_TYPE\")"
      ],
      "metadata": {
        "id": "Pxd69O5A6cWN"
      },
      "execution_count": null,
      "outputs": []
    },
    {
      "cell_type": "code",
      "source": [
        "# Calculate the count of each unique value in the 'NAME_INCOME_TYPE' column\n",
        "income_type_counts = df.groupBy(\"NAME_FAMILY_STATUS\").agg(count(\"*\").alias(\"count\"))\n",
        "\n",
        "# Calculate the percentage of each unique value\n",
        "income_type_percentages = income_type_counts.withColumn(\n",
        "    \"percentage\", (col(\"count\") / total_count) * 100\n",
        ")\n",
        "\n",
        "# Display the results\n",
        "income_type_percentages.show()"
      ],
      "metadata": {
        "colab": {
          "base_uri": "https://localhost:8080/"
        },
        "id": "J2DkZriA11Ev",
        "outputId": "78598474-76a1-47ab-a882-95bff07e498b"
      },
      "execution_count": null,
      "outputs": [
        {
          "output_type": "stream",
          "name": "stdout",
          "text": [
            "+--------------------+------+------------------+\n",
            "|  NAME_FAMILY_STATUS| count|        percentage|\n",
            "+--------------------+------+------------------+\n",
            "|           Separated| 15231| 6.559544522730796|\n",
            "|             Married|151503| 65.24789402056884|\n",
            "|Single / not married| 31730|13.665179417388757|\n",
            "|               Widow| 12263|5.2813140622577475|\n",
            "|      Civil marriage| 21469| 9.246067977053867|\n",
            "+--------------------+------+------------------+\n",
            "\n"
          ]
        }
      ]
    },
    {
      "cell_type": "code",
      "source": [
        "df_target_encoded  = df.groupBy('NAME_FAMILY_STATUS') \\\n",
        "    .agg(F.mean('TARGET').alias('NAME_FAMILY_STATUS_TARGET_EN'))\n",
        "\n",
        "# Join this result back to the original DataFrame to apply target encoding\n",
        "df = df.join(df_target_encoded, on='NAME_FAMILY_STATUS', how='left')\n",
        "\n",
        "# Drop the unnecessary columns\n",
        "df = df.drop('NAME_FAMILY_STATUS')"
      ],
      "metadata": {
        "id": "B8Vi7Vls10-p"
      },
      "execution_count": null,
      "outputs": []
    },
    {
      "cell_type": "code",
      "source": [
        "# Calculate the count of each unique value in the 'NAME_INCOME_TYPE' column\n",
        "income_type_counts = df.groupBy(\"NAME_HOUSING_TYPE\").agg(count(\"*\").alias(\"count\"))\n",
        "\n",
        "# Calculate the percentage of each unique value\n",
        "income_type_percentages = income_type_counts.withColumn(\n",
        "    \"percentage\", (col(\"count\") / total_count) * 100\n",
        ")\n",
        "\n",
        "# Display the results\n",
        "income_type_percentages.show()"
      ],
      "metadata": {
        "colab": {
          "base_uri": "https://localhost:8080/"
        },
        "id": "vorzgWD65Tqm",
        "outputId": "37d6d647-81ae-4561-f251-0e09db2355bb"
      },
      "execution_count": null,
      "outputs": [
        {
          "output_type": "stream",
          "name": "stdout",
          "text": [
            "+-------------------+------+-------------------+\n",
            "|  NAME_HOUSING_TYPE| count|         percentage|\n",
            "+-------------------+------+-------------------+\n",
            "|  House / apartment|206879|  89.09671139899051|\n",
            "|Municipal apartment|  8422|  3.627108132784372|\n",
            "|    Co-op apartment|   862|0.37123809195679514|\n",
            "|   Rented apartment|  3424| 1.4746162724594738|\n",
            "|   Office apartment|  1971| 0.8488518320729039|\n",
            "|       With parents| 10638|  4.581474271735947|\n",
            "+-------------------+------+-------------------+\n",
            "\n"
          ]
        }
      ]
    },
    {
      "cell_type": "code",
      "source": [
        "df = df.withColumn(\n",
        "    \"NAME_HOUSING_TYPE_MAPPED\",\n",
        "    F.when(F.col(\"NAME_HOUSING_TYPE\").isin(\"House / apartment\", \"With parents\"), F.lit(1)).otherwise(F.lit(0))\n",
        ")\n",
        "\n",
        "df = df.drop(\"NAME_HOUSING_TYPE\")"
      ],
      "metadata": {
        "id": "qpx3oWlc5TnO"
      },
      "execution_count": null,
      "outputs": []
    },
    {
      "cell_type": "code",
      "source": [
        "df = df.withColumn(\n",
        "    \"DAYS_BIRTH_YEARS\",\n",
        "    F.round(F.abs(F.col(\"DAYS_BIRTH\")) / 365, 2)\n",
        ")\n",
        "\n",
        "# (Optional) Drop the original 'DAYS_BIRTH' column if you don't need it\n",
        "df = df.drop(\"DAYS_BIRTH\")"
      ],
      "metadata": {
        "id": "FrYair6A633v"
      },
      "execution_count": null,
      "outputs": []
    },
    {
      "cell_type": "code",
      "source": [
        "from pyspark.sql.functions import when"
      ],
      "metadata": {
        "id": "922RIm9r7oAa"
      },
      "execution_count": null,
      "outputs": []
    },
    {
      "cell_type": "code",
      "source": [
        "df = df.withColumn(\n",
        "    \"WEEKDAY_APPR_PROCESS_START\",\n",
        "    when(F.col(\"WEEKDAY_APPR_PROCESS_START\") == \"MONDAY\", 0)\n",
        "    .when(F.col(\"WEEKDAY_APPR_PROCESS_START\") == \"TUESDAY\", 1)\n",
        "    .when(F.col(\"WEEKDAY_APPR_PROCESS_START\") == \"WEDNESDAY\", 2)\n",
        "    .when(F.col(\"WEEKDAY_APPR_PROCESS_START\") == \"THURSDAY\", 3)\n",
        "    .when(F.col(\"WEEKDAY_APPR_PROCESS_START\") == \"FRIDAY\", 4)\n",
        "    .when(F.col(\"WEEKDAY_APPR_PROCESS_START\") == \"SATURDAY\", 5)\n",
        "    .when(F.col(\"WEEKDAY_APPR_PROCESS_START\") == \"SUNDAY\", 6)\n",
        ")"
      ],
      "metadata": {
        "id": "N7byY47J630S"
      },
      "execution_count": null,
      "outputs": []
    },
    {
      "cell_type": "code",
      "source": [
        "# Calculate the count of each unique value in the 'NAME_INCOME_TYPE' column\n",
        "income_type_counts = df.groupBy(\"ORGANIZATION_TYPE\").agg(count(\"*\").alias(\"count\"))\n",
        "\n",
        "# Calculate the percentage of each unique value\n",
        "income_type_percentages = income_type_counts.withColumn(\n",
        "    \"percentage\", (col(\"count\") / total_count) * 100\n",
        ")\n",
        "\n",
        "# Display the results\n",
        "income_type_percentages.show()"
      ],
      "metadata": {
        "colab": {
          "base_uri": "https://localhost:8080/"
        },
        "id": "DbA2509D63yQ",
        "outputId": "76ad6da9-dc48-497e-f183-920316325224"
      },
      "execution_count": null,
      "outputs": [
        {
          "output_type": "stream",
          "name": "stdout",
          "text": [
            "+-------------------+-----+--------------------+\n",
            "|  ORGANIZATION_TYPE|count|          percentage|\n",
            "+-------------------+-----+--------------------+\n",
            "|           Services| 1160| 0.49957794277248535|\n",
            "|  Industry: type 13|   41|0.017657496253165428|\n",
            "|      Trade: type 5|   36|0.015504143051559888|\n",
            "|            Telecom|  444| 0.19121776430257195|\n",
            "|               Bank| 1868|  0.8044927561198298|\n",
            "|   Industry: type 5|  479| 0.20629123671381072|\n",
            "|        Electricity|  739| 0.31826560319729885|\n",
            "|            Housing| 2265|  0.9754690003273097|\n",
            "|  Transport: type 2| 1844|  0.7941566607521232|\n",
            "|          Insurance|  402| 0.17312959740908543|\n",
            "|           Security| 2475|  1.0659098347947422|\n",
            "|             Postal| 1657|   0.713621251012076|\n",
            "|             School| 7198|   3.099967269031336|\n",
            "|         Government| 8275|   3.563799548657169|\n",
            "|Security Ministries| 1635|  0.7041464969250116|\n",
            "|           Military| 2102|   0.905269685954969|\n",
            "|            Realtor|  287| 0.12360247377215801|\n",
            "|  Industry: type 10|   84|0.036176333786973075|\n",
            "|      Self-employed|27597|  11.885217660941619|\n",
            "|            Culture|  286|  0.1231718031318369|\n",
            "+-------------------+-----+--------------------+\n",
            "only showing top 20 rows\n",
            "\n"
          ]
        }
      ]
    },
    {
      "cell_type": "code",
      "source": [
        "org_target_mean = df.groupBy(\"ORGANIZATION_TYPE\").agg(\n",
        "    F.mean(\"target\").alias(\"ORG_TYPE_TARGET_MEAN\")\n",
        ")\n",
        "\n",
        "df = df.join(\n",
        "    org_target_mean,\n",
        "    on=\"ORGANIZATION_TYPE\",\n",
        "    how=\"left\"\n",
        ")\n",
        "\n",
        "df = df.drop(\"ORGANIZATION_TYPE\")"
      ],
      "metadata": {
        "id": "ICtE5joV63wM"
      },
      "execution_count": null,
      "outputs": []
    },
    {
      "cell_type": "code",
      "source": [
        "doc_cols = [col for col in df.columns if col.startswith('FLAG_DOCUMENT_')]\n",
        "\n",
        "df = df.withColumn(\"Documents_count\", sum(F.col(c) for c in doc_cols))\n",
        "\n",
        "df = df.drop(*doc_cols)"
      ],
      "metadata": {
        "id": "fWpjlu_G63uR"
      },
      "execution_count": null,
      "outputs": []
    },
    {
      "cell_type": "code",
      "source": [
        "df.show(5)"
      ],
      "metadata": {
        "colab": {
          "base_uri": "https://localhost:8080/"
        },
        "id": "mLPGqqfr5Ti5",
        "outputId": "44e5774d-ae71-4d40-fde1-59d76bb3899e"
      },
      "execution_count": null,
      "outputs": [
        {
          "output_type": "stream",
          "name": "stdout",
          "text": [
            "+------+------------------+-----------+------------+---------------+------------+----------------+----------+-----------+---------------+--------------------------+-------------+-----------------+---------------+----------+--------------+---------------+----------------+----------+----------+---------------+--------------------+---------------------------+--------------------------+-----------------------+--------------------------+--------------------------+---------------------------+----------------------+----------------------+-----------------------+------------------------+------------------------+------------------------+------------------------+----------------------+--------------------------+-------------------------+--------------------------+-------------------------+-------------------------+--------------------------+----------+--------------------+------------------------+-------------------+------------------------+----------------------+--------------------+--------------------------------+--------------------+---------------------+--------------+---------------+----------+---+---+-----+---------+--------+---+------+-----+-----------------------+------------+-----+----+---------------------------+------------------------+---------------------------+--------------------------------+--------------------------+----------------------------+-------------------------+-------------------------------------+--------------------------+------------------------+---------------------------+----------------------------+------------------------+----------------+--------------------+---------------+\n",
            "|TARGET|NAME_CONTRACT_TYPE|CODE_GENDER|FLAG_OWN_CAR|FLAG_OWN_REALTY|CNT_CHILDREN|AMT_INCOME_TOTAL|AMT_CREDIT|AMT_ANNUITY|AMT_GOODS_PRICE|REGION_POPULATION_RELATIVE|DAYS_EMPLOYED|DAYS_REGISTRATION|DAYS_ID_PUBLISH|FLAG_MOBIL|FLAG_EMP_PHONE|FLAG_WORK_PHONE|FLAG_CONT_MOBILE|FLAG_PHONE|FLAG_EMAIL|CNT_FAM_MEMBERS|REGION_RATING_CLIENT|REGION_RATING_CLIENT_W_CITY|WEEKDAY_APPR_PROCESS_START|HOUR_APPR_PROCESS_START|REG_REGION_NOT_LIVE_REGION|REG_REGION_NOT_WORK_REGION|LIVE_REGION_NOT_WORK_REGION|REG_CITY_NOT_LIVE_CITY|REG_CITY_NOT_WORK_CITY|LIVE_CITY_NOT_WORK_CITY|OBS_30_CNT_SOCIAL_CIRCLE|DEF_30_CNT_SOCIAL_CIRCLE|OBS_60_CNT_SOCIAL_CIRCLE|DEF_60_CNT_SOCIAL_CIRCLE|DAYS_LAST_PHONE_CHANGE|AMT_REQ_CREDIT_BUREAU_HOUR|AMT_REQ_CREDIT_BUREAU_DAY|AMT_REQ_CREDIT_BUREAU_WEEK|AMT_REQ_CREDIT_BUREAU_MON|AMT_REQ_CREDIT_BUREAU_QRT|AMT_REQ_CREDIT_BUREAU_YEAR|PREV_COUNT|PREV_AVG_AMT_ANNUITY|PREV_AVG_AMT_APPLICATION|PREV_AVG_AMT_CREDIT|PREV_AVG_GOODS_APP_RATIO|PREV_AVG_DAYS_DECISION|PREV_AVG_CNT_PAYMENT|PREV_AVG_HOUR_APPR_PROCESS_START|REFUSED_STATUS_COUNT|APPROVED_STATUS_COUNT|Consumer loans|Revolving loans|Cash loans|XAP| HC|LIMIT|Refreshed|Repeater|POS|Cash_x|Cards|Credit and cash offices|Country-wide|Stone|Cash|POS household with interest|POS mobile with interest|ZERO_NFLAG_LAST_APPL_IN_DAY|ZERO_FLAG_LAST_APPL_PER_CONTRACT|XAP_NAME_CASH_LOAN_PURPOSE|Other_NAME_CASH_LOAN_PURPOSE|PREV_AVG_NAME_YIELD_GROUP|NAME_INCOME_TYPE_Commercial_associate|NAME_INCOME_TYPE_Pensioner|NAME_INCOME_TYPE_Working|NAME_EDUCATION_TYPE_encoded|NAME_FAMILY_STATUS_TARGET_EN|NAME_HOUSING_TYPE_MAPPED|DAYS_BIRTH_YEARS|ORG_TYPE_TARGET_MEAN|Documents_count|\n",
            "+------+------------------+-----------+------------+---------------+------------+----------------+----------+-----------+---------------+--------------------------+-------------+-----------------+---------------+----------+--------------+---------------+----------------+----------+----------+---------------+--------------------+---------------------------+--------------------------+-----------------------+--------------------------+--------------------------+---------------------------+----------------------+----------------------+-----------------------+------------------------+------------------------+------------------------+------------------------+----------------------+--------------------------+-------------------------+--------------------------+-------------------------+-------------------------+--------------------------+----------+--------------------+------------------------+-------------------+------------------------+----------------------+--------------------+--------------------------------+--------------------+---------------------+--------------+---------------+----------+---+---+-----+---------+--------+---+------+-----+-----------------------+------------+-----+----+---------------------------+------------------------+---------------------------+--------------------------------+--------------------------+----------------------------+-------------------------+-------------------------------------+--------------------------+------------------------+---------------------------+----------------------------+------------------------+----------------+--------------------+---------------+\n",
            "|     0|                 0|          1|           1|              1|           0|         67500.0|  135000.0|     6750.0|       135000.0|                  0.010032|         -225|          -4260.0|          -2531|         1|             1|              1|               1|         1|         0|            1.0|                   2|                          2|                         0|                      9|                         0|                         0|                          0|                     0|                     0|                      0|                     0.0|                     0.0|                     0.0|                     0.0|                -815.0|                       0.0|                      0.0|                       0.0|                      0.0|                      0.0|                       0.0|         1|             5357.25|                 24282.0|            20106.0|                     1.0|                -815.0|                 4.0|                             5.0|                   0|                  1.0|           1.0|            0.0|       0.0|1.0|0.0|  0.0|      0.0|     0.0|1.0|   0.0|  0.0|                    0.0|         0.0|  0.0| 0.0|                        0.0|                     0.0|                        0.0|                             0.0|                       1.0|                         0.0|                      2.0|                                    0|                         0|                       1|                          1|         0.09473684210526316|                       1|           52.18| 0.06719033232628399|            0.0|\n",
            "|     0|                 1|          1|           0|              1|           0|         99000.0|  490495.5|    27517.5|       454500.0|      0.035792000000000004|        -1588|          -4970.0|           -477|         1|             1|              1|               1|         1|         0|            2.0|                   2|                          2|                         2|                     16|                         0|                         0|                          0|                     0|                     0|                      0|                     0.0|                     0.0|                     0.0|                     0.0|               -2536.0|                       0.0|                      0.0|                       0.0|                      0.0|                      1.0|                       1.0|         5|             15839.7|                155701.8|           162767.7|                     1.0|               -1192.0|                14.0|                            12.0|                   0|                  4.0|           3.0|            0.0|       2.0|5.0|0.0|  0.0|      1.0|     3.0|3.0|   1.0|  0.0|                    0.0|         0.0|  0.0| 1.0|                        2.0|                     1.0|                        0.0|                             0.0|                       3.0|                         0.0|                      1.0|                                    0|                         0|                       0|                          1|          0.0749688124987624|                       1|           46.41| 0.07602890355010995|            1.0|\n",
            "|     0|                 1|          0|           1|              1|           1|        171000.0| 1560726.0|    41301.0|      1395000.0|      0.035792000000000004|        -3130|          -1213.0|           -619|         1|             1|              0|               1|         1|         0|            3.0|                   2|                          2|                         6|                     16|                         0|                         0|                          0|                     0|                     0|                      0|                     1.0|                     0.0|                     1.0|                     0.0|               -1562.0|                       0.0|                      0.0|                       0.0|                      1.0|                      1.0|                       2.0|         7|            10051.41|       76741.71428571429|           70137.64|                     1.0|               -719.29|                 8.0|                           13.71|                   0|                  7.0|           7.0|            0.0|       0.0|7.0|0.0|  0.0|      1.0|     6.0|7.0|   0.0|  0.0|                    0.0|         0.0|  0.0| 0.0|                        5.0|                     1.0|                        0.0|                             0.0|                       7.0|                         0.0|                     2.17|                                    1|                         0|                       0|                          3|          0.0749688124987624|                       1|           37.75| 0.09232602005360865|            2.0|\n",
            "|     0|                 1|          1|           1|              1|           0|        360000.0| 1530000.0|    42075.0|      1530000.0|      0.003121999999999...|         -449|          -4597.0|          -2379|         1|             1|              1|               1|         0|         0|            2.0|                   3|                          3|                         0|                     16|                         0|                         0|                          0|                     0|                     1|                      1|                     2.0|                     0.0|                     2.0|                     0.0|               -1070.0|                       0.0|                      0.0|                       0.0|                      0.0|                      0.0|                       0.0|         1|            27463.41|                247212.0|           260811.0|                     1.0|               -1070.0|                10.0|                            16.0|                   0|                  1.0|           1.0|            0.0|       0.0|1.0|0.0|  0.0|      0.0|     0.0|1.0|   0.0|  0.0|                    0.0|         0.0|  0.0| 0.0|                        0.0|                     0.0|                        0.0|                             0.0|                       1.0|                         0.0|                      0.0|                                    0|                         0|                       0|                          3|          0.0749688124987624|                       1|           51.64| 0.07602890355010995|            1.0|\n",
            "|     0|                 1|          0|           0|              1|           1|        112500.0|  652500.0|    21177.0|       652500.0|                    0.0228|         -679|          -4427.0|           -738|         1|             1|              0|               1|         0|         0|            3.0|                   2|                          2|                         5|                     15|                         0|                         0|                          0|                     0|                     0|                      0|                     0.0|                     0.0|                     0.0|                     0.0|                -844.0|                       0.0|                      0.0|                       0.0|                      1.0|                      0.0|                       0.0|         2|            12806.55|                96536.25|           102834.0|                     1.0|                -473.0|                 9.0|                            13.5|                   0|                  2.0|           2.0|            0.0|       0.0|2.0|0.0|  0.0|      0.0|     1.0|2.0|   0.0|  0.0|                    0.0|         0.0|  0.0| 0.0|                        0.0|                     0.0|                        0.0|                             0.0|                       2.0|                         0.0|                      2.0|                                    0|                         0|                       1|                          3|          0.0749688124987624|                       1|           27.94| 0.06560636182902585|            1.0|\n",
            "+------+------------------+-----------+------------+---------------+------------+----------------+----------+-----------+---------------+--------------------------+-------------+-----------------+---------------+----------+--------------+---------------+----------------+----------+----------+---------------+--------------------+---------------------------+--------------------------+-----------------------+--------------------------+--------------------------+---------------------------+----------------------+----------------------+-----------------------+------------------------+------------------------+------------------------+------------------------+----------------------+--------------------------+-------------------------+--------------------------+-------------------------+-------------------------+--------------------------+----------+--------------------+------------------------+-------------------+------------------------+----------------------+--------------------+--------------------------------+--------------------+---------------------+--------------+---------------+----------+---+---+-----+---------+--------+---+------+-----+-----------------------+------------+-----+----+---------------------------+------------------------+---------------------------+--------------------------------+--------------------------+----------------------------+-------------------------+-------------------------------------+--------------------------+------------------------+---------------------------+----------------------------+------------------------+----------------+--------------------+---------------+\n",
            "only showing top 5 rows\n",
            "\n"
          ]
        }
      ]
    },
    {
      "cell_type": "markdown",
      "source": [
        "## save the new data"
      ],
      "metadata": {
        "id": "xRM_Ab4zKNAc"
      }
    },
    {
      "cell_type": "code",
      "source": [
        "import os\n",
        "import shutil\n",
        "from pathlib import Path\n",
        "# Define your paths\n",
        "current_dir = '/content/drive/MyDrive'\n",
        "data_relative_path = 'Data'\n",
        "output_dir = os.path.join(current_dir, data_relative_path, \"tmp_output\")\n",
        "\n",
        "def save_csv(df, final_csv_path):\n",
        "    # write df into a temporary folder\n",
        "    df.coalesce(1).write.option(\"header\", \"true\").mode(\"overwrite\").csv(output_dir)\n",
        "\n",
        "    # find the generated part file\n",
        "    part_file = next(Path(output_dir).glob(\"part-*.csv\"))\n",
        "\n",
        "    # move and rename\n",
        "    shutil.move(str(part_file), final_csv_path)\n",
        "\n",
        "    shutil.rmtree(output_dir)\n",
        "\n",
        "    return f\"File saved to: {final_csv_path}\"\n",
        "\n",
        "final_csv_path = os.path.join(current_dir, data_relative_path, \"encoded_merged_application.csv\")\n",
        "save_csv(df, final_csv_path)"
      ],
      "metadata": {
        "colab": {
          "base_uri": "https://localhost:8080/",
          "height": 36
        },
        "id": "ihZtDFXJ52gB",
        "outputId": "717ec62f-018c-4eb9-a23c-2cde13936d21"
      },
      "execution_count": null,
      "outputs": [
        {
          "output_type": "execute_result",
          "data": {
            "text/plain": [
              "'File saved to: /content/drive/MyDrive/Data/encoded_merged_application.csv'"
            ],
            "application/vnd.google.colaboratory.intrinsic+json": {
              "type": "string"
            }
          },
          "metadata": {},
          "execution_count": 47
        }
      ]
    },
    {
      "cell_type": "code",
      "source": [
        "from pyspark.sql.types import DoubleType"
      ],
      "metadata": {
        "id": "Ob6YlMioRKv4"
      },
      "execution_count": null,
      "outputs": []
    },
    {
      "cell_type": "code",
      "source": [
        "from pyspark.sql import functions as F"
      ],
      "metadata": {
        "id": "UN31qFpUePd5"
      },
      "execution_count": null,
      "outputs": []
    },
    {
      "cell_type": "code",
      "source": [
        "for col_name in df.columns:\n",
        "    df = df.withColumn(col_name, F.col(col_name).cast(DoubleType()))"
      ],
      "metadata": {
        "id": "NHp5oto9RIJO"
      },
      "execution_count": null,
      "outputs": []
    },
    {
      "cell_type": "code",
      "source": [
        "print(df.printSchema())"
      ],
      "metadata": {
        "colab": {
          "base_uri": "https://localhost:8080/"
        },
        "id": "MJdKobqfRS_i",
        "outputId": "571ce319-9b6e-404b-c30b-3134aeeddf03"
      },
      "execution_count": null,
      "outputs": [
        {
          "output_type": "stream",
          "name": "stdout",
          "text": [
            "root\n",
            " |-- TARGET: double (nullable = true)\n",
            " |-- NAME_CONTRACT_TYPE: double (nullable = true)\n",
            " |-- CODE_GENDER: double (nullable = true)\n",
            " |-- FLAG_OWN_CAR: double (nullable = true)\n",
            " |-- FLAG_OWN_REALTY: double (nullable = true)\n",
            " |-- CNT_CHILDREN: double (nullable = true)\n",
            " |-- AMT_INCOME_TOTAL: double (nullable = true)\n",
            " |-- AMT_CREDIT: double (nullable = true)\n",
            " |-- AMT_ANNUITY: double (nullable = true)\n",
            " |-- AMT_GOODS_PRICE: double (nullable = true)\n",
            " |-- REGION_POPULATION_RELATIVE: double (nullable = true)\n",
            " |-- DAYS_EMPLOYED: double (nullable = true)\n",
            " |-- DAYS_REGISTRATION: double (nullable = true)\n",
            " |-- DAYS_ID_PUBLISH: double (nullable = true)\n",
            " |-- FLAG_MOBIL: double (nullable = true)\n",
            " |-- FLAG_EMP_PHONE: double (nullable = true)\n",
            " |-- FLAG_WORK_PHONE: double (nullable = true)\n",
            " |-- FLAG_CONT_MOBILE: double (nullable = true)\n",
            " |-- FLAG_PHONE: double (nullable = true)\n",
            " |-- FLAG_EMAIL: double (nullable = true)\n",
            " |-- CNT_FAM_MEMBERS: double (nullable = true)\n",
            " |-- REGION_RATING_CLIENT: double (nullable = true)\n",
            " |-- REGION_RATING_CLIENT_W_CITY: double (nullable = true)\n",
            " |-- WEEKDAY_APPR_PROCESS_START: double (nullable = true)\n",
            " |-- HOUR_APPR_PROCESS_START: double (nullable = true)\n",
            " |-- REG_REGION_NOT_LIVE_REGION: double (nullable = true)\n",
            " |-- REG_REGION_NOT_WORK_REGION: double (nullable = true)\n",
            " |-- LIVE_REGION_NOT_WORK_REGION: double (nullable = true)\n",
            " |-- REG_CITY_NOT_LIVE_CITY: double (nullable = true)\n",
            " |-- REG_CITY_NOT_WORK_CITY: double (nullable = true)\n",
            " |-- LIVE_CITY_NOT_WORK_CITY: double (nullable = true)\n",
            " |-- OBS_30_CNT_SOCIAL_CIRCLE: double (nullable = true)\n",
            " |-- DEF_30_CNT_SOCIAL_CIRCLE: double (nullable = true)\n",
            " |-- OBS_60_CNT_SOCIAL_CIRCLE: double (nullable = true)\n",
            " |-- DEF_60_CNT_SOCIAL_CIRCLE: double (nullable = true)\n",
            " |-- DAYS_LAST_PHONE_CHANGE: double (nullable = true)\n",
            " |-- AMT_REQ_CREDIT_BUREAU_HOUR: double (nullable = true)\n",
            " |-- AMT_REQ_CREDIT_BUREAU_DAY: double (nullable = true)\n",
            " |-- AMT_REQ_CREDIT_BUREAU_WEEK: double (nullable = true)\n",
            " |-- AMT_REQ_CREDIT_BUREAU_MON: double (nullable = true)\n",
            " |-- AMT_REQ_CREDIT_BUREAU_QRT: double (nullable = true)\n",
            " |-- AMT_REQ_CREDIT_BUREAU_YEAR: double (nullable = true)\n",
            " |-- PREV_COUNT: double (nullable = true)\n",
            " |-- PREV_AVG_AMT_ANNUITY: double (nullable = true)\n",
            " |-- PREV_AVG_AMT_APPLICATION: double (nullable = true)\n",
            " |-- PREV_AVG_AMT_CREDIT: double (nullable = true)\n",
            " |-- PREV_AVG_GOODS_APP_RATIO: double (nullable = true)\n",
            " |-- PREV_AVG_DAYS_DECISION: double (nullable = true)\n",
            " |-- PREV_AVG_CNT_PAYMENT: double (nullable = true)\n",
            " |-- PREV_AVG_HOUR_APPR_PROCESS_START: double (nullable = true)\n",
            " |-- REFUSED_STATUS_COUNT: double (nullable = true)\n",
            " |-- APPROVED_STATUS_COUNT: double (nullable = true)\n",
            " |-- Consumer loans: double (nullable = true)\n",
            " |-- Revolving loans: double (nullable = true)\n",
            " |-- Cash loans: double (nullable = true)\n",
            " |-- XAP: double (nullable = true)\n",
            " |-- HC: double (nullable = true)\n",
            " |-- LIMIT: double (nullable = true)\n",
            " |-- Refreshed: double (nullable = true)\n",
            " |-- Repeater: double (nullable = true)\n",
            " |-- POS: double (nullable = true)\n",
            " |-- Cash_x: double (nullable = true)\n",
            " |-- Cards: double (nullable = true)\n",
            " |-- Credit and cash offices: double (nullable = true)\n",
            " |-- Country-wide: double (nullable = true)\n",
            " |-- Stone: double (nullable = true)\n",
            " |-- Cash: double (nullable = true)\n",
            " |-- POS household with interest: double (nullable = true)\n",
            " |-- POS mobile with interest: double (nullable = true)\n",
            " |-- ZERO_NFLAG_LAST_APPL_IN_DAY: double (nullable = true)\n",
            " |-- ZERO_FLAG_LAST_APPL_PER_CONTRACT: double (nullable = true)\n",
            " |-- XAP_NAME_CASH_LOAN_PURPOSE: double (nullable = true)\n",
            " |-- Other_NAME_CASH_LOAN_PURPOSE: double (nullable = true)\n",
            " |-- PREV_AVG_NAME_YIELD_GROUP: double (nullable = true)\n",
            " |-- NAME_INCOME_TYPE_Commercial_associate: double (nullable = true)\n",
            " |-- NAME_INCOME_TYPE_Pensioner: double (nullable = true)\n",
            " |-- NAME_INCOME_TYPE_Working: double (nullable = true)\n",
            " |-- NAME_EDUCATION_TYPE_encoded: double (nullable = true)\n",
            " |-- NAME_FAMILY_STATUS_TARGET_EN: double (nullable = true)\n",
            " |-- NAME_HOUSING_TYPE_MAPPED: double (nullable = true)\n",
            " |-- DAYS_BIRTH_YEARS: double (nullable = true)\n",
            " |-- ORG_TYPE_TARGET_MEAN: double (nullable = true)\n",
            " |-- Documents_count: double (nullable = true)\n",
            "\n",
            "None\n"
          ]
        }
      ]
    },
    {
      "cell_type": "code",
      "source": [
        "numeric_cols = [field.name for field in df.schema.fields if isinstance(field.dataType, DoubleType)]\n",
        "len(numeric_cols)"
      ],
      "metadata": {
        "colab": {
          "base_uri": "https://localhost:8080/"
        },
        "id": "8LZlV4tlRPFf",
        "outputId": "f4837b48-be03-436e-9093-26728631b9c5"
      },
      "execution_count": null,
      "outputs": [
        {
          "output_type": "execute_result",
          "data": {
            "text/plain": [
              "83"
            ]
          },
          "metadata": {},
          "execution_count": 35
        }
      ]
    },
    {
      "cell_type": "markdown",
      "source": [
        "# Outliers"
      ],
      "metadata": {
        "id": "Rk6A6gIrNV0b"
      }
    },
    {
      "cell_type": "code",
      "source": [
        "from pyspark.sql import Window"
      ],
      "metadata": {
        "id": "dYalJubhS6fu"
      },
      "execution_count": null,
      "outputs": []
    },
    {
      "cell_type": "code",
      "source": [
        "stats = df.select([\n",
        "    F.mean(F.col(c)).alias(f\"{c}_mean\") for c in numeric_cols\n",
        "] + [\n",
        "    F.stddev(F.col(c)).alias(f\"{c}_stddev\") for c in numeric_cols\n",
        "]).collect()[0]\n",
        "\n",
        "\n",
        "zscore_outliers = {}\n",
        "\n",
        "for col_name in numeric_cols:\n",
        "    mean = stats[f\"{col_name}_mean\"]\n",
        "    stddev = stats[f\"{col_name}_stddev\"]\n",
        "\n",
        "    if stddev == 0 or stddev is None:\n",
        "        continue\n",
        "\n",
        "    df = df.withColumn(f\"{col_name}_zscore\", (F.col(col_name) - mean) / stddev)\n",
        "\n",
        "    outliers_df = df.filter(F.abs(F.col(f\"{col_name}_zscore\")) > 3)\n",
        "\n",
        "    count_outliers = outliers_df.count()\n",
        "\n",
        "    zscore_outliers[col_name] = {\n",
        "        'outliers_count': count_outliers,\n",
        "        'mean': mean,\n",
        "        'stddev': stddev\n",
        "    }\n",
        "\n",
        "for col_name, info in zscore_outliers.items():\n",
        "    print(f\"Column: {col_name}\")\n",
        "    print(f\"  ➔ Outliers count: {info['outliers_count']}\")\n",
        "    print(f\"  ➔ Mean: {info['mean']}\")\n",
        "    print(f\"  ➔ Stddev: {info['stddev']}\")\n",
        "    print(\"-\" * 30)\n"
      ],
      "metadata": {
        "colab": {
          "base_uri": "https://localhost:8080/"
        },
        "id": "RvyvRk3D_STL",
        "outputId": "1fd34c55-4c7b-48a8-d1fe-1c9f8ec130d5"
      },
      "execution_count": null,
      "outputs": [
        {
          "output_type": "stream",
          "name": "stdout",
          "text": [
            "Column: TARGET\n",
            "  ➔ Outliers count: 18296\n",
            "  ➔ Mean: 0.07879550035314993\n",
            "  ➔ Stddev: 0.26941989920660797\n",
            "------------------------------\n",
            "Column: NAME_CONTRACT_TYPE\n",
            "  ➔ Outliers count: 20394\n",
            "  ➔ Mean: 0.9121690296129132\n",
            "  ➔ Stddev: 0.2830495293557322\n",
            "------------------------------\n",
            "Column: CODE_GENDER\n",
            "  ➔ Outliers count: 0\n",
            "  ➔ Mean: 0.331693913762511\n",
            "  ➔ Stddev: 0.47082270125846976\n",
            "------------------------------\n",
            "Column: FLAG_OWN_CAR\n",
            "  ➔ Outliers count: 0\n",
            "  ➔ Mean: 0.34836948095574427\n",
            "  ➔ Stddev: 0.47645478626642657\n",
            "------------------------------\n",
            "Column: FLAG_OWN_REALTY\n",
            "  ➔ Outliers count: 0\n",
            "  ➔ Mean: 0.7054342021395718\n",
            "  ➔ Stddev: 0.4558483119579252\n",
            "------------------------------\n",
            "Column: CNT_CHILDREN\n",
            "  ➔ Outliers count: 3349\n",
            "  ➔ Mean: 0.4295724301882892\n",
            "  ➔ Stddev: 0.7307387971727246\n",
            "------------------------------\n",
            "Column: AMT_INCOME_TOTAL\n",
            "  ➔ Outliers count: 152\n",
            "  ➔ Mean: 170607.98641615274\n",
            "  ➔ Stddev: 260983.59123385994\n",
            "------------------------------\n",
            "Column: AMT_CREDIT\n",
            "  ➔ Outliers count: 2776\n",
            "  ➔ Mean: 601365.7066336198\n",
            "  ➔ Stddev: 395047.49544313404\n",
            "------------------------------\n",
            "Column: AMT_ANNUITY\n",
            "  ➔ Outliers count: 2200\n",
            "  ➔ Mean: 27140.901884614723\n",
            "  ➔ Stddev: 14012.099264851307\n",
            "------------------------------\n",
            "Column: AMT_GOODS_PRICE\n",
            "  ➔ Outliers count: 2777\n",
            "  ➔ Mean: 539979.6822856552\n",
            "  ➔ Stddev: 361673.70893163804\n",
            "------------------------------\n",
            "Column: REGION_POPULATION_RELATIVE\n",
            "  ➔ Outliers count: 5653\n",
            "  ➔ Mean: 0.020584579432893317\n",
            "  ➔ Stddev: 0.013495234187294642\n",
            "------------------------------\n",
            "Column: DAYS_EMPLOYED\n",
            "  ➔ Outliers count: 0\n",
            "  ➔ Mean: 63795.53817464556\n",
            "  ➔ Stddev: 141374.4688205642\n",
            "------------------------------\n",
            "Column: DAYS_REGISTRATION\n",
            "  ➔ Outliers count: 550\n",
            "  ➔ Mean: -4995.43881462213\n",
            "  ➔ Stddev: 3514.0413827293787\n",
            "------------------------------\n",
            "Column: DAYS_ID_PUBLISH\n",
            "  ➔ Outliers count: 0\n",
            "  ➔ Mean: -3049.7277214077762\n",
            "  ➔ Stddev: 1490.7763507462175\n",
            "------------------------------\n",
            "Column: FLAG_EMP_PHONE\n",
            "  ➔ Outliers count: 0\n",
            "  ➔ Mean: 0.8197126565487778\n",
            "  ➔ Stddev: 0.3844274362045152\n",
            "------------------------------\n",
            "Column: FLAG_WORK_PHONE\n",
            "  ➔ Outliers count: 0\n",
            "  ➔ Mean: 0.1996330686144464\n",
            "  ➔ Stddev: 0.39972539906450144\n",
            "------------------------------\n",
            "Column: FLAG_CONT_MOBILE\n",
            "  ➔ Outliers count: 151\n",
            "  ➔ Mean: 0.9993496873331151\n",
            "  ➔ Stddev: 0.025492990393765215\n",
            "------------------------------\n",
            "Column: FLAG_PHONE\n",
            "  ➔ Outliers count: 0\n",
            "  ➔ Mean: 0.2890273734258988\n",
            "  ➔ Stddev: 0.45331163213368697\n",
            "------------------------------\n",
            "Column: FLAG_EMAIL\n",
            "  ➔ Outliers count: 13940\n",
            "  ➔ Mean: 0.06003548726076246\n",
            "  ➔ Stddev: 0.2375530899902173\n",
            "------------------------------\n",
            "Column: CNT_FAM_MEMBERS\n",
            "  ➔ Outliers count: 3151\n",
            "  ➔ Mean: 2.174512050164516\n",
            "  ➔ Stddev: 0.9140019389554556\n",
            "------------------------------\n",
            "Column: REGION_RATING_CLIENT\n",
            "  ➔ Outliers count: 0\n",
            "  ➔ Mean: 2.0604489310754706\n",
            "  ➔ Stddev: 0.5006747909089776\n",
            "------------------------------\n",
            "Column: REGION_RATING_CLIENT_W_CITY\n",
            "  ➔ Outliers count: 0\n",
            "  ➔ Mean: 2.0405261072542165\n",
            "  ➔ Stddev: 0.4954829417813694\n",
            "------------------------------\n",
            "Column: WEEKDAY_APPR_PROCESS_START\n",
            "  ➔ Outliers count: 0\n",
            "  ➔ Mean: 2.544746679529363\n",
            "  ➔ Stddev: 1.7886979842629902\n",
            "------------------------------\n",
            "Column: HOUR_APPR_PROCESS_START\n",
            "  ➔ Outliers count: 456\n",
            "  ➔ Mean: 12.067804785612156\n",
            "  ➔ Stddev: 3.240378975915849\n",
            "------------------------------\n",
            "Column: REG_REGION_NOT_LIVE_REGION\n",
            "  ➔ Outliers count: 3154\n",
            "  ➔ Mean: 0.013583351995727747\n",
            "  ➔ Stddev: 0.11575362737048894\n",
            "------------------------------\n",
            "Column: REG_REGION_NOT_WORK_REGION\n",
            "  ➔ Outliers count: 11064\n",
            "  ➔ Mean: 0.04764939964512739\n",
            "  ➔ Stddev: 0.21302377753005572\n",
            "------------------------------\n",
            "Column: LIVE_REGION_NOT_WORK_REGION\n",
            "  ➔ Outliers count: 9000\n",
            "  ➔ Mean: 0.03876035762889972\n",
            "  ➔ Stddev: 0.19302371037078428\n",
            "------------------------------\n",
            "Column: REG_CITY_NOT_LIVE_CITY\n",
            "  ➔ Outliers count: 17353\n",
            "  ➔ Mean: 0.07473427621492187\n",
            "  ➔ Stddev: 0.2629626627100384\n",
            "------------------------------\n",
            "Column: REG_CITY_NOT_WORK_CITY\n",
            "  ➔ Outliers count: 0\n",
            "  ➔ Mean: 0.22629588795672623\n",
            "  ➔ Stddev: 0.41843376190037507\n",
            "------------------------------\n",
            "Column: LIVE_CITY_NOT_WORK_CITY\n",
            "  ➔ Outliers count: 0\n",
            "  ➔ Mean: 0.17814260366242313\n",
            "  ➔ Stddev: 0.3826335674780658\n",
            "------------------------------\n",
            "Column: OBS_30_CNT_SOCIAL_CIRCLE\n",
            "  ➔ Outliers count: 4691\n",
            "  ➔ Mean: 1.4389653568536926\n",
            "  ➔ Stddev: 2.4332055641333548\n",
            "------------------------------\n",
            "Column: DEF_30_CNT_SOCIAL_CIRCLE\n",
            "  ➔ Outliers count: 5216\n",
            "  ➔ Mean: 0.14553222277730882\n",
            "  ➔ Stddev: 0.45026161791965746\n",
            "------------------------------\n",
            "Column: OBS_60_CNT_SOCIAL_CIRCLE\n",
            "  ➔ Outliers count: 4557\n",
            "  ➔ Mean: 1.4222079622387982\n",
            "  ➔ Stddev: 2.412173882521376\n",
            "------------------------------\n",
            "Column: DEF_60_CNT_SOCIAL_CIRCLE\n",
            "  ➔ Outliers count: 2998\n",
            "  ➔ Mean: 0.10122052059467002\n",
            "  ➔ Stddev: 0.3647275435593993\n",
            "------------------------------\n",
            "Column: DAYS_LAST_PHONE_CHANGE\n",
            "  ➔ Outliers count: 269\n",
            "  ➔ Mean: -1029.0448629606024\n",
            "  ➔ Stddev: 820.1939809592495\n",
            "------------------------------\n",
            "Column: AMT_REQ_CREDIT_BUREAU_HOUR\n",
            "  ➔ Outliers count: 1401\n",
            "  ➔ Mean: 0.0063179382935106545\n",
            "  ➔ Stddev: 0.08331437228593604\n",
            "------------------------------\n",
            "Column: AMT_REQ_CREDIT_BUREAU_DAY\n",
            "  ➔ Outliers count: 1265\n",
            "  ➔ Mean: 0.006606487622525797\n",
            "  ➔ Stddev: 0.10442245428447595\n",
            "------------------------------\n",
            "Column: AMT_REQ_CREDIT_BUREAU_WEEK\n",
            "  ➔ Outliers count: 7799\n",
            "  ➔ Mean: 0.03561215524815242\n",
            "  ➔ Stddev: 0.20508956255452077\n",
            "------------------------------\n",
            "Column: AMT_REQ_CREDIT_BUREAU_MON\n",
            "  ➔ Outliers count: 3007\n",
            "  ➔ Mean: 0.2806809764164757\n",
            "  ➔ Stddev: 0.9428058969130979\n",
            "------------------------------\n",
            "Column: AMT_REQ_CREDIT_BUREAU_QRT\n",
            "  ➔ Outliers count: 2069\n",
            "  ➔ Mean: 0.2730667194955985\n",
            "  ➔ Stddev: 0.6171993276201637\n",
            "------------------------------\n",
            "Column: AMT_REQ_CREDIT_BUREAU_YEAR\n",
            "  ➔ Outliers count: 3030\n",
            "  ➔ Mean: 1.9842331478578443\n",
            "  ➔ Stddev: 1.8620381587351578\n",
            "------------------------------\n",
            "Column: PREV_COUNT\n",
            "  ➔ Outliers count: 4145\n",
            "  ➔ Mean: 5.017265585970473\n",
            "  ➔ Stddev: 4.2362863374826025\n",
            "------------------------------\n",
            "Column: PREV_AVG_AMT_ANNUITY\n",
            "  ➔ Outliers count: 3793\n",
            "  ➔ Mean: 14519.798210649536\n",
            "  ➔ Stddev: 9951.48014651368\n",
            "------------------------------\n",
            "Column: PREV_AVG_AMT_APPLICATION\n",
            "  ➔ Outliers count: 4395\n",
            "  ➔ Mean: 155893.85916112745\n",
            "  ➔ Stddev: 155021.85629674266\n",
            "------------------------------\n",
            "Column: PREV_AVG_AMT_CREDIT\n",
            "  ➔ Outliers count: 4256\n",
            "  ➔ Mean: 172407.22530194293\n",
            "  ➔ Stddev: 167708.25111625198\n",
            "------------------------------\n",
            "Column: PREV_AVG_GOODS_APP_RATIO\n",
            "  ➔ Outliers count: 232196\n",
            "  ➔ Mean: inf\n",
            "  ➔ Stddev: nan\n",
            "------------------------------\n",
            "Column: PREV_AVG_DAYS_DECISION\n",
            "  ➔ Outliers count: 1955\n",
            "  ➔ Mean: -936.5495026184773\n",
            "  ➔ Stddev: 575.2403946944725\n",
            "------------------------------\n",
            "Column: PREV_AVG_CNT_PAYMENT\n",
            "  ➔ Outliers count: 3212\n",
            "  ➔ Mean: 14.680708840807226\n",
            "  ➔ Stddev: 8.51923179506533\n",
            "------------------------------\n",
            "Column: PREV_AVG_HOUR_APPR_PROCESS_START\n",
            "  ➔ Outliers count: 1045\n",
            "  ➔ Mean: 12.696277326052197\n",
            "  ➔ Stddev: 2.727930713717764\n",
            "------------------------------\n",
            "Column: REFUSED_STATUS_COUNT\n",
            "  ➔ Outliers count: 4765\n",
            "  ➔ Mean: 0.8919361229306276\n",
            "  ➔ Stddev: 1.8664819491141804\n",
            "------------------------------\n",
            "Column: APPROVED_STATUS_COUNT\n",
            "  ➔ Outliers count: 3547\n",
            "  ➔ Mean: 3.120092508053541\n",
            "  ➔ Stddev: 2.158178073567185\n",
            "------------------------------\n",
            "Column: Consumer loans\n",
            "  ➔ Outliers count: 4430\n",
            "  ➔ Mean: 2.226842839669934\n",
            "  ➔ Stddev: 1.8619461678995433\n",
            "------------------------------\n",
            "Column: Revolving loans\n",
            "  ➔ Outliers count: 4679\n",
            "  ➔ Mean: 0.563515306034557\n",
            "  ➔ Stddev: 1.0215370146666463\n",
            "------------------------------\n",
            "Column: Cash loans\n",
            "  ➔ Outliers count: 4197\n",
            "  ➔ Mean: 2.22569725576668\n",
            "  ➔ Stddev: 3.3019978197910316\n",
            "------------------------------\n",
            "Column: XAP\n",
            "  ➔ Outliers count: 3291\n",
            "  ➔ Mean: 4.036456269703182\n",
            "  ➔ Stddev: 3.0969396363728716\n",
            "------------------------------\n",
            "Column: HC\n",
            "  ➔ Outliers count: 5578\n",
            "  ➔ Mean: 0.5367534324450034\n",
            "  ➔ Stddev: 1.4267041031313812\n",
            "------------------------------\n",
            "Column: LIMIT\n",
            "  ➔ Outliers count: 3600\n",
            "  ➔ Mean: 0.17126048683009182\n",
            "  ➔ Stddev: 0.6541255640800508\n",
            "------------------------------\n",
            "Column: Refreshed\n",
            "  ➔ Outliers count: 3171\n",
            "  ➔ Mean: 0.4127935020413788\n",
            "  ➔ Stddev: 0.8833980708167716\n",
            "------------------------------\n",
            "Column: Repeater\n",
            "  ➔ Outliers count: 4035\n",
            "  ➔ Mean: 3.719654946682975\n",
            "  ➔ Stddev: 4.266561164552347\n",
            "------------------------------\n",
            "Column: POS\n",
            "  ➔ Outliers count: 3312\n",
            "  ➔ Mean: 2.100785543247946\n",
            "  ➔ Stddev: 1.7278714686861498\n",
            "------------------------------\n",
            "Column: Cash_x\n",
            "  ➔ Outliers count: 5645\n",
            "  ➔ Mean: 1.3935726713638479\n",
            "  ➔ Stddev: 2.1944718014719524\n",
            "------------------------------\n",
            "Column: Cards\n",
            "  ➔ Outliers count: 3884\n",
            "  ➔ Mean: 0.42783252080139195\n",
            "  ➔ Stddev: 0.7348656462503986\n",
            "------------------------------\n",
            "Column: Cash\n",
            "  ➔ Outliers count: 5381\n",
            "  ➔ Mean: 0.8321245844028321\n",
            "  ➔ Stddev: 1.6628665228728927\n",
            "------------------------------\n",
            "Column: POS household with interest\n",
            "  ➔ Outliers count: 2911\n",
            "  ➔ Mean: 0.7959525573222622\n",
            "  ➔ Stddev: 1.1145495517677888\n",
            "------------------------------\n",
            "Column: POS mobile with interest\n",
            "  ➔ Outliers count: 5687\n",
            "  ➔ Mean: 0.6901281675825596\n",
            "  ➔ Stddev: 1.0672541723115512\n",
            "------------------------------\n",
            "Column: ZERO_NFLAG_LAST_APPL_IN_DAY\n",
            "  ➔ Outliers count: 3422\n",
            "  ➔ Mean: 0.018208754672776446\n",
            "  ➔ Stddev: 0.16860827099577838\n",
            "------------------------------\n",
            "Column: XAP_NAME_CASH_LOAN_PURPOSE\n",
            "  ➔ Outliers count: 3346\n",
            "  ➔ Mean: 2.7915683302037935\n",
            "  ➔ Stddev: 2.1861629582082442\n",
            "------------------------------\n",
            "Column: Other_NAME_CASH_LOAN_PURPOSE\n",
            "  ➔ Outliers count: 4395\n",
            "  ➔ Mean: 0.21260486830091818\n",
            "  ➔ Stddev: 0.7447586634834962\n",
            "------------------------------\n",
            "Column: PREV_AVG_NAME_YIELD_GROUP\n",
            "  ➔ Outliers count: 0\n",
            "  ➔ Mean: 1.489785655222329\n",
            "  ➔ Stddev: 0.7528061537723802\n",
            "------------------------------\n",
            "Column: NAME_INCOME_TYPE_Commercial_associate\n",
            "  ➔ Outliers count: 0\n",
            "  ➔ Mean: 0.2231821392272046\n",
            "  ➔ Stddev: 0.4163803773259999\n",
            "------------------------------\n",
            "Column: NAME_INCOME_TYPE_Pensioner\n",
            "  ➔ Outliers count: 0\n",
            "  ➔ Mean: 0.18028303674481902\n",
            "  ➔ Stddev: 0.3844238544358019\n",
            "------------------------------\n",
            "Column: NAME_INCOME_TYPE_Working\n",
            "  ➔ Outliers count: 0\n",
            "  ➔ Mean: 0.521180382090992\n",
            "  ➔ Stddev: 0.49955226569767686\n",
            "------------------------------\n",
            "Column: NAME_EDUCATION_TYPE_encoded\n",
            "  ➔ Outliers count: 0\n",
            "  ➔ Mean: 1.508652173164051\n",
            "  ➔ Stddev: 0.8737275349144137\n",
            "------------------------------\n",
            "Column: NAME_FAMILY_STATUS_TARGET_EN\n",
            "  ➔ Outliers count: 0\n",
            "  ➔ Mean: 0.07879550035314237\n",
            "  ➔ Stddev: 0.010213452609563854\n",
            "------------------------------\n",
            "Column: NAME_HOUSING_TYPE_MAPPED\n",
            "  ➔ Outliers count: 14679\n",
            "  ➔ Mean: 0.9367818567072645\n",
            "  ➔ Stddev: 0.24335542875090757\n",
            "------------------------------\n",
            "Column: DAYS_BIRTH_YEARS\n",
            "  ➔ Outliers count: 0\n",
            "  ➔ Mean: 44.23271425864337\n",
            "  ➔ Stddev: 11.75043127427795\n",
            "------------------------------\n",
            "Column: ORG_TYPE_TARGET_MEAN\n",
            "  ➔ Outliers count: 844\n",
            "  ➔ Mean: 0.07879550035311762\n",
            "  ➔ Stddev: 0.01996962872659418\n",
            "------------------------------\n",
            "Column: Documents_count\n",
            "  ➔ Outliers count: 3478\n",
            "  ➔ Mean: 0.9268807386862823\n",
            "  ➔ Stddev: 0.3149523647477323\n",
            "------------------------------\n"
          ]
        }
      ]
    },
    {
      "cell_type": "code",
      "source": [
        "drop_cols = [f\"{col}_zscore\" for col in numeric_cols]\n",
        "df = df.drop(*drop_cols)"
      ],
      "metadata": {
        "id": "vNLLzKbi_SP7"
      },
      "execution_count": null,
      "outputs": []
    },
    {
      "cell_type": "code",
      "source": [
        "df.show(5)"
      ],
      "metadata": {
        "colab": {
          "base_uri": "https://localhost:8080/"
        },
        "id": "vaq3_b8b_SOi",
        "outputId": "9cc76e86-7b3b-4cfb-8661-3c8a95c33abe"
      },
      "execution_count": null,
      "outputs": [
        {
          "output_type": "stream",
          "name": "stdout",
          "text": [
            "+------+------------------+-----------+------------+---------------+------------+----------------+----------+-----------+---------------+--------------------------+-------------+-----------------+---------------+----------+--------------+---------------+----------------+----------+----------+---------------+--------------------+---------------------------+--------------------------+-----------------------+--------------------------+--------------------------+---------------------------+----------------------+----------------------+-----------------------+------------------------+------------------------+------------------------+------------------------+----------------------+--------------------------+-------------------------+--------------------------+-------------------------+-------------------------+--------------------------+----------+--------------------+------------------------+-------------------+------------------------+----------------------+--------------------+--------------------------------+--------------------+---------------------+--------------+---------------+----------+---+---+-----+---------+--------+---+------+-----+-----------------------+------------+-----+----+---------------------------+------------------------+---------------------------+--------------------------------+--------------------------+----------------------------+-------------------------+-------------------------------------+--------------------------+------------------------+---------------------------+----------------------------+------------------------+----------------+--------------------+---------------+\n",
            "|TARGET|NAME_CONTRACT_TYPE|CODE_GENDER|FLAG_OWN_CAR|FLAG_OWN_REALTY|CNT_CHILDREN|AMT_INCOME_TOTAL|AMT_CREDIT|AMT_ANNUITY|AMT_GOODS_PRICE|REGION_POPULATION_RELATIVE|DAYS_EMPLOYED|DAYS_REGISTRATION|DAYS_ID_PUBLISH|FLAG_MOBIL|FLAG_EMP_PHONE|FLAG_WORK_PHONE|FLAG_CONT_MOBILE|FLAG_PHONE|FLAG_EMAIL|CNT_FAM_MEMBERS|REGION_RATING_CLIENT|REGION_RATING_CLIENT_W_CITY|WEEKDAY_APPR_PROCESS_START|HOUR_APPR_PROCESS_START|REG_REGION_NOT_LIVE_REGION|REG_REGION_NOT_WORK_REGION|LIVE_REGION_NOT_WORK_REGION|REG_CITY_NOT_LIVE_CITY|REG_CITY_NOT_WORK_CITY|LIVE_CITY_NOT_WORK_CITY|OBS_30_CNT_SOCIAL_CIRCLE|DEF_30_CNT_SOCIAL_CIRCLE|OBS_60_CNT_SOCIAL_CIRCLE|DEF_60_CNT_SOCIAL_CIRCLE|DAYS_LAST_PHONE_CHANGE|AMT_REQ_CREDIT_BUREAU_HOUR|AMT_REQ_CREDIT_BUREAU_DAY|AMT_REQ_CREDIT_BUREAU_WEEK|AMT_REQ_CREDIT_BUREAU_MON|AMT_REQ_CREDIT_BUREAU_QRT|AMT_REQ_CREDIT_BUREAU_YEAR|PREV_COUNT|PREV_AVG_AMT_ANNUITY|PREV_AVG_AMT_APPLICATION|PREV_AVG_AMT_CREDIT|PREV_AVG_GOODS_APP_RATIO|PREV_AVG_DAYS_DECISION|PREV_AVG_CNT_PAYMENT|PREV_AVG_HOUR_APPR_PROCESS_START|REFUSED_STATUS_COUNT|APPROVED_STATUS_COUNT|Consumer loans|Revolving loans|Cash loans|XAP| HC|LIMIT|Refreshed|Repeater|POS|Cash_x|Cards|Credit and cash offices|Country-wide|Stone|Cash|POS household with interest|POS mobile with interest|ZERO_NFLAG_LAST_APPL_IN_DAY|ZERO_FLAG_LAST_APPL_PER_CONTRACT|XAP_NAME_CASH_LOAN_PURPOSE|Other_NAME_CASH_LOAN_PURPOSE|PREV_AVG_NAME_YIELD_GROUP|NAME_INCOME_TYPE_Commercial_associate|NAME_INCOME_TYPE_Pensioner|NAME_INCOME_TYPE_Working|NAME_EDUCATION_TYPE_encoded|NAME_FAMILY_STATUS_TARGET_EN|NAME_HOUSING_TYPE_MAPPED|DAYS_BIRTH_YEARS|ORG_TYPE_TARGET_MEAN|Documents_count|\n",
            "+------+------------------+-----------+------------+---------------+------------+----------------+----------+-----------+---------------+--------------------------+-------------+-----------------+---------------+----------+--------------+---------------+----------------+----------+----------+---------------+--------------------+---------------------------+--------------------------+-----------------------+--------------------------+--------------------------+---------------------------+----------------------+----------------------+-----------------------+------------------------+------------------------+------------------------+------------------------+----------------------+--------------------------+-------------------------+--------------------------+-------------------------+-------------------------+--------------------------+----------+--------------------+------------------------+-------------------+------------------------+----------------------+--------------------+--------------------------------+--------------------+---------------------+--------------+---------------+----------+---+---+-----+---------+--------+---+------+-----+-----------------------+------------+-----+----+---------------------------+------------------------+---------------------------+--------------------------------+--------------------------+----------------------------+-------------------------+-------------------------------------+--------------------------+------------------------+---------------------------+----------------------------+------------------------+----------------+--------------------+---------------+\n",
            "|   0.0|               0.0|        1.0|         1.0|            1.0|         0.0|         67500.0|  135000.0|     6750.0|       135000.0|                  0.010032|       -225.0|          -4260.0|        -2531.0|       1.0|           1.0|            1.0|             1.0|       1.0|       0.0|            1.0|                 2.0|                        2.0|                       0.0|                    9.0|                       0.0|                       0.0|                        0.0|                   0.0|                   0.0|                    0.0|                     0.0|                     0.0|                     0.0|                     0.0|                -815.0|                       0.0|                      0.0|                       0.0|                      0.0|                      0.0|                       0.0|       1.0|             5357.25|                 24282.0|            20106.0|                     1.0|                -815.0|                 4.0|                             5.0|                 0.0|                  1.0|           1.0|            0.0|       0.0|1.0|0.0|  0.0|      0.0|     0.0|1.0|   0.0|  0.0|                    0.0|         0.0|  0.0| 0.0|                        0.0|                     0.0|                        0.0|                             0.0|                       1.0|                         0.0|                      2.0|                                  0.0|                       0.0|                     1.0|                        1.0|         0.09473684210526316|                     1.0|           52.18| 0.06719033232628399|            0.0|\n",
            "|   0.0|               1.0|        1.0|         0.0|            1.0|         0.0|         99000.0|  490495.5|    27517.5|       454500.0|      0.035792000000000004|      -1588.0|          -4970.0|         -477.0|       1.0|           1.0|            1.0|             1.0|       1.0|       0.0|            2.0|                 2.0|                        2.0|                       2.0|                   16.0|                       0.0|                       0.0|                        0.0|                   0.0|                   0.0|                    0.0|                     0.0|                     0.0|                     0.0|                     0.0|               -2536.0|                       0.0|                      0.0|                       0.0|                      0.0|                      1.0|                       1.0|       5.0|             15839.7|                155701.8|           162767.7|                     1.0|               -1192.0|                14.0|                            12.0|                 0.0|                  4.0|           3.0|            0.0|       2.0|5.0|0.0|  0.0|      1.0|     3.0|3.0|   1.0|  0.0|                    0.0|         0.0|  0.0| 1.0|                        2.0|                     1.0|                        0.0|                             0.0|                       3.0|                         0.0|                      1.0|                                  0.0|                       0.0|                     0.0|                        1.0|          0.0749688124987624|                     1.0|           46.41| 0.07602890355010995|            1.0|\n",
            "|   0.0|               1.0|        0.0|         1.0|            1.0|         1.0|        171000.0| 1560726.0|    41301.0|      1395000.0|      0.035792000000000004|      -3130.0|          -1213.0|         -619.0|       1.0|           1.0|            0.0|             1.0|       1.0|       0.0|            3.0|                 2.0|                        2.0|                       6.0|                   16.0|                       0.0|                       0.0|                        0.0|                   0.0|                   0.0|                    0.0|                     1.0|                     0.0|                     1.0|                     0.0|               -1562.0|                       0.0|                      0.0|                       0.0|                      1.0|                      1.0|                       2.0|       7.0|            10051.41|       76741.71428571429|           70137.64|                     1.0|               -719.29|                 8.0|                           13.71|                 0.0|                  7.0|           7.0|            0.0|       0.0|7.0|0.0|  0.0|      1.0|     6.0|7.0|   0.0|  0.0|                    0.0|         0.0|  0.0| 0.0|                        5.0|                     1.0|                        0.0|                             0.0|                       7.0|                         0.0|                     2.17|                                  1.0|                       0.0|                     0.0|                        3.0|          0.0749688124987624|                     1.0|           37.75| 0.09232602005360865|            2.0|\n",
            "|   0.0|               1.0|        1.0|         1.0|            1.0|         0.0|        360000.0| 1530000.0|    42075.0|      1530000.0|      0.003121999999999...|       -449.0|          -4597.0|        -2379.0|       1.0|           1.0|            1.0|             1.0|       0.0|       0.0|            2.0|                 3.0|                        3.0|                       0.0|                   16.0|                       0.0|                       0.0|                        0.0|                   0.0|                   1.0|                    1.0|                     2.0|                     0.0|                     2.0|                     0.0|               -1070.0|                       0.0|                      0.0|                       0.0|                      0.0|                      0.0|                       0.0|       1.0|            27463.41|                247212.0|           260811.0|                     1.0|               -1070.0|                10.0|                            16.0|                 0.0|                  1.0|           1.0|            0.0|       0.0|1.0|0.0|  0.0|      0.0|     0.0|1.0|   0.0|  0.0|                    0.0|         0.0|  0.0| 0.0|                        0.0|                     0.0|                        0.0|                             0.0|                       1.0|                         0.0|                      0.0|                                  0.0|                       0.0|                     0.0|                        3.0|          0.0749688124987624|                     1.0|           51.64| 0.07602890355010995|            1.0|\n",
            "|   0.0|               1.0|        0.0|         0.0|            1.0|         1.0|        112500.0|  652500.0|    21177.0|       652500.0|                    0.0228|       -679.0|          -4427.0|         -738.0|       1.0|           1.0|            0.0|             1.0|       0.0|       0.0|            3.0|                 2.0|                        2.0|                       5.0|                   15.0|                       0.0|                       0.0|                        0.0|                   0.0|                   0.0|                    0.0|                     0.0|                     0.0|                     0.0|                     0.0|                -844.0|                       0.0|                      0.0|                       0.0|                      1.0|                      0.0|                       0.0|       2.0|            12806.55|                96536.25|           102834.0|                     1.0|                -473.0|                 9.0|                            13.5|                 0.0|                  2.0|           2.0|            0.0|       0.0|2.0|0.0|  0.0|      0.0|     1.0|2.0|   0.0|  0.0|                    0.0|         0.0|  0.0| 0.0|                        0.0|                     0.0|                        0.0|                             0.0|                       2.0|                         0.0|                      2.0|                                  0.0|                       0.0|                     1.0|                        3.0|          0.0749688124987624|                     1.0|           27.94| 0.06560636182902585|            1.0|\n",
            "+------+------------------+-----------+------------+---------------+------------+----------------+----------+-----------+---------------+--------------------------+-------------+-----------------+---------------+----------+--------------+---------------+----------------+----------+----------+---------------+--------------------+---------------------------+--------------------------+-----------------------+--------------------------+--------------------------+---------------------------+----------------------+----------------------+-----------------------+------------------------+------------------------+------------------------+------------------------+----------------------+--------------------------+-------------------------+--------------------------+-------------------------+-------------------------+--------------------------+----------+--------------------+------------------------+-------------------+------------------------+----------------------+--------------------+--------------------------------+--------------------+---------------------+--------------+---------------+----------+---+---+-----+---------+--------+---+------+-----+-----------------------+------------+-----+----+---------------------------+------------------------+---------------------------+--------------------------------+--------------------------+----------------------------+-------------------------+-------------------------------------+--------------------------+------------------------+---------------------------+----------------------------+------------------------+----------------+--------------------+---------------+\n",
            "only showing top 5 rows\n",
            "\n"
          ]
        }
      ]
    },
    {
      "cell_type": "markdown",
      "source": [
        "## Remove Outliers"
      ],
      "metadata": {
        "id": "zY4ZuZlip_rM"
      }
    },
    {
      "cell_type": "code",
      "source": [
        "#  Identify non binary columns\n",
        "non_binary_cols = []\n",
        "\n",
        "\n",
        "for col in numeric_cols:\n",
        "    unique_vals = df.select(col).distinct().rdd.flatMap(lambda x: x).collect()\n",
        "    unique_vals = [v for v in unique_vals if v is not None]\n",
        "\n",
        "    if not (set(unique_vals) <= {0.0, 1.0}):\n",
        "        non_binary_cols.append(col)\n",
        "\n",
        "print(f\"Total non-binary numeric features: {len(non_binary_cols)}\")"
      ],
      "metadata": {
        "colab": {
          "base_uri": "https://localhost:8080/"
        },
        "id": "flxbAPCSqokW",
        "outputId": "23208c32-315b-4a91-9ccd-d797acda3d8e"
      },
      "execution_count": null,
      "outputs": [
        {
          "output_type": "stream",
          "name": "stdout",
          "text": [
            "Total non-binary numeric features: 57\n"
          ]
        }
      ]
    },
    {
      "cell_type": "code",
      "source": [
        "df = df.drop(\"PREV_AVG_GOODS_APP_RATIO\")\n",
        "numeric_cols.remove(\"PREV_AVG_GOODS_APP_RATIO\")"
      ],
      "metadata": {
        "id": "6XYorJAlK2fH"
      },
      "execution_count": null,
      "outputs": []
    },
    {
      "cell_type": "code",
      "source": [
        "len(non_binary_cols)"
      ],
      "metadata": {
        "colab": {
          "base_uri": "https://localhost:8080/"
        },
        "id": "eSbpkDHzqyBw",
        "outputId": "823b3a72-bd6e-487b-f654-c0b78922b4c4"
      },
      "execution_count": null,
      "outputs": [
        {
          "output_type": "execute_result",
          "data": {
            "text/plain": [
              "57"
            ]
          },
          "metadata": {},
          "execution_count": 41
        }
      ]
    },
    {
      "cell_type": "code",
      "source": [
        "stats = df.select([\n",
        "    F.mean(col).alias(f\"{col}_mean\") for col in non_binary_cols\n",
        "] + [\n",
        "    F.stddev(col).alias(f\"{col}_stddev\") for col in non_binary_cols\n",
        "]).collect()[0].asDict()\n",
        "\n",
        "#  Build Z-Score filters\n",
        "zscore_filters = []\n",
        "\n",
        "for col in non_binary_cols:\n",
        "    mean = stats[f\"{col}_mean\"]\n",
        "    stddev = stats[f\"{col}_stddev\"]\n",
        "\n",
        "    if stddev == 0 or stddev is None:\n",
        "        continue\n",
        "\n",
        "    zscore = (F.col(col) - mean) / stddev\n",
        "    zscore_filters.append(F.abs(zscore) <= 3)\n",
        "\n",
        "#  Apply filters\n",
        "from functools import reduce\n",
        "df_no_outliers = df.filter(reduce(lambda x, y: x & y, zscore_filters))\n",
        "\n",
        "#  See the result\n",
        "print(f\"Original rows: {df.count()}\")\n",
        "print(f\"Rows after removing outliers: {df_no_outliers.count()}\")"
      ],
      "metadata": {
        "colab": {
          "base_uri": "https://localhost:8080/"
        },
        "id": "0zH19uDbq2-T",
        "outputId": "594a73e8-0b56-4d29-cc4a-e992756f9f66"
      },
      "execution_count": null,
      "outputs": [
        {
          "output_type": "stream",
          "name": "stdout",
          "text": [
            "Original rows: 232196\n",
            "Rows after removing outliers: 157782\n"
          ]
        }
      ]
    },
    {
      "cell_type": "markdown",
      "source": [
        "## Save the cleaned data"
      ],
      "metadata": {
        "id": "4ec2C3m5LNMH"
      }
    },
    {
      "cell_type": "code",
      "source": [
        "import os\n",
        "import shutil\n",
        "from pathlib import Path\n",
        "\n",
        "current_dir = '/content/drive/MyDrive'\n",
        "\n",
        "output_dir = os.path.join(current_dir, data_relative_path, \"tmp_output\")\n",
        "\n",
        "def save_csv(df, final_csv_path):\n",
        "    # write df into a temporary folder\n",
        "    df.coalesce(1).write.option(\"header\", \"true\").mode(\"overwrite\").csv(output_dir)\n",
        "\n",
        "    # find the generated part file\n",
        "    part_file = next(Path(output_dir).glob(\"part-*.csv\"))\n",
        "\n",
        "    # move and rename\n",
        "    shutil.move(str(part_file), final_csv_path)\n",
        "\n",
        "    shutil.rmtree(output_dir)\n",
        "\n",
        "    return f\"File saved to: {final_csv_path}\"\n",
        "\n",
        "\n",
        "data_relative_path = 'Data'\n",
        "\n",
        "df_no_outliers_path = os.path.join(current_dir, data_relative_path, \"df_no_outliers.csv\")\n",
        "save_csv(df_no_outliers, df_no_outliers_path)"
      ],
      "metadata": {
        "colab": {
          "base_uri": "https://localhost:8080/",
          "height": 36
        },
        "id": "fJEhrVi2swZY",
        "outputId": "4a7b84ca-b130-4050-8e3a-aa23f94d1587"
      },
      "execution_count": null,
      "outputs": [
        {
          "output_type": "execute_result",
          "data": {
            "text/plain": [
              "'File saved to: /content/drive/MyDrive/Data/df_no_outliers.csv'"
            ],
            "application/vnd.google.colaboratory.intrinsic+json": {
              "type": "string"
            }
          },
          "metadata": {},
          "execution_count": 48
        }
      ]
    },
    {
      "cell_type": "markdown",
      "source": [
        "## Split the data to prevent any information Leakage when testing the Corr"
      ],
      "metadata": {
        "id": "JYymAno6b-FX"
      }
    },
    {
      "cell_type": "code",
      "source": [
        "df=df_no_outliers"
      ],
      "metadata": {
        "id": "MX50j-QOughn"
      },
      "execution_count": null,
      "outputs": []
    },
    {
      "cell_type": "code",
      "source": [
        "print(f\"Shape of df: ({df.count()}, {len(df.columns)})\")"
      ],
      "metadata": {
        "colab": {
          "base_uri": "https://localhost:8080/"
        },
        "id": "csmosO8FulBm",
        "outputId": "b216ff52-3e35-4262-8f10-af735cdcbfb0"
      },
      "execution_count": null,
      "outputs": [
        {
          "output_type": "stream",
          "name": "stdout",
          "text": [
            "Shape of df: (157782, 82)\n"
          ]
        }
      ]
    },
    {
      "cell_type": "code",
      "source": [
        "seed = 42\n",
        "\n",
        "class_0 = df.filter(F.col(\"TARGET\") == 0)\n",
        "class_1 = df.filter(F.col(\"TARGET\") == 1)\n",
        "\n",
        "class_0_train, class_0_test = class_0.randomSplit([0.8, 0.2], seed=seed)\n",
        "class_1_train, class_1_test = class_1.randomSplit([0.8, 0.2], seed=seed)\n",
        "\n",
        "train_df = class_0_train.union(class_1_train)\n",
        "test_df = class_0_test.union(class_1_test)\n",
        "\n",
        "train_df = train_df.orderBy(F.rand(seed))\n",
        "test_df = test_df.orderBy(F.rand(seed))"
      ],
      "metadata": {
        "id": "8vwrKBZd_SLT"
      },
      "execution_count": null,
      "outputs": []
    },
    {
      "cell_type": "code",
      "source": [
        "y_train = train_df.select(\"TARGET\")\n",
        "X_train = train_df.drop(\"TARGET\")\n",
        "\n",
        "y_test = test_df.select(\"TARGET\")\n",
        "X_test = test_df.drop(\"TARGET\")"
      ],
      "metadata": {
        "id": "mpx8gkMzcKIM"
      },
      "execution_count": null,
      "outputs": []
    },
    {
      "cell_type": "code",
      "source": [
        "print(X_train.count(), len(X_train.columns))\n",
        "print(y_train.count(), len(y_train.columns))\n",
        "print(X_test.count(), len(X_test.columns))\n",
        "print(y_test.count(), len(y_test.columns))"
      ],
      "metadata": {
        "colab": {
          "base_uri": "https://localhost:8080/"
        },
        "id": "Pc31rv1sodRA",
        "outputId": "80a096d8-fcbc-4047-8268-f0ecbb03fd55"
      },
      "execution_count": null,
      "outputs": [
        {
          "output_type": "stream",
          "name": "stdout",
          "text": [
            "126163 81\n",
            "126163 1\n",
            "31619 81\n",
            "31619 1\n"
          ]
        }
      ]
    },
    {
      "cell_type": "markdown",
      "source": [
        "# Correlation"
      ],
      "metadata": {
        "id": "x46--oqkckHV"
      }
    },
    {
      "cell_type": "markdown",
      "source": [
        "## High Correlated Features"
      ],
      "metadata": {
        "id": "MhA_bGIZcnI3"
      }
    },
    {
      "cell_type": "code",
      "source": [
        "from pyspark.ml.stat import Correlation\n",
        "from pyspark.ml.feature import VectorAssembler\n",
        "from pyspark.sql.functions import abs as abs_"
      ],
      "metadata": {
        "id": "QQf3ukk1ceYk"
      },
      "execution_count": null,
      "outputs": []
    },
    {
      "cell_type": "code",
      "source": [
        "numeric_cols = [field.name for field in X_train.schema.fields if isinstance(field.dataType, (DoubleType))]\n",
        "\n",
        "vector_col = \"features_vec\"\n",
        "assembler = VectorAssembler(inputCols=numeric_cols, outputCol=vector_col)\n",
        "df_vector = assembler.transform(X_train).select(vector_col)\n",
        "\n",
        "correlation_matrix = Correlation.corr(df_vector, vector_col, method=\"pearson\").collect()[0][0]\n",
        "\n",
        "import numpy as np\n",
        "corr_array = np.array(correlation_matrix.toArray())\n",
        "\n",
        "\n",
        "high_corr_pairs = []\n",
        "\n",
        "for i in range(len(numeric_cols)):\n",
        "    for j in range(i+1, len(numeric_cols)):\n",
        "        if abs(corr_array[i, j]) > 0.8:\n",
        "            high_corr_pairs.append((numeric_cols[i], numeric_cols[j], corr_array[i, j]))\n",
        "\n",
        "high_corr_pairs_sorted = sorted(high_corr_pairs, key=lambda x: abs(x[2]), reverse=True)\n",
        "\n",
        "for f1, f2, corr in high_corr_pairs_sorted:\n",
        "    print(f\"{f1} <--> {f2} | correlation = {corr:.4f}\")"
      ],
      "metadata": {
        "colab": {
          "base_uri": "https://localhost:8080/"
        },
        "id": "iqnMWBozdQGR",
        "outputId": "cc5108de-0df1-4f56-f522-7a208e8923bd"
      },
      "execution_count": null,
      "outputs": [
        {
          "output_type": "stream",
          "name": "stdout",
          "text": [
            "DAYS_EMPLOYED <--> NAME_INCOME_TYPE_Pensioner | correlation = 0.9998\n",
            "FLAG_EMP_PHONE <--> NAME_INCOME_TYPE_Pensioner | correlation = -0.9998\n",
            "DAYS_EMPLOYED <--> FLAG_EMP_PHONE | correlation = -0.9998\n",
            "OBS_30_CNT_SOCIAL_CIRCLE <--> OBS_60_CNT_SOCIAL_CIRCLE | correlation = 0.9976\n",
            "AMT_CREDIT <--> AMT_GOODS_PRICE | correlation = 0.9848\n",
            "Consumer loans <--> POS | correlation = 0.9709\n",
            "PREV_COUNT <--> Repeater | correlation = 0.9643\n",
            "PREV_AVG_AMT_APPLICATION <--> PREV_AVG_AMT_CREDIT | correlation = 0.9608\n",
            "REGION_RATING_CLIENT <--> REGION_RATING_CLIENT_W_CITY | correlation = 0.9495\n",
            "NAME_CONTRACT_TYPE <--> Documents_count | correlation = 0.9436\n",
            "PREV_COUNT <--> XAP | correlation = 0.9428\n",
            "XAP <--> Repeater | correlation = 0.9181\n",
            "Consumer loans <--> XAP_NAME_CASH_LOAN_PURPOSE | correlation = 0.8999\n",
            "APPROVED_STATUS_COUNT <--> XAP | correlation = 0.8873\n",
            "Revolving loans <--> Cards | correlation = 0.8871\n",
            "Cash loans <--> Cash_x | correlation = 0.8860\n",
            "POS <--> XAP_NAME_CASH_LOAN_PURPOSE | correlation = 0.8733\n",
            "REG_REGION_NOT_WORK_REGION <--> LIVE_REGION_NOT_WORK_REGION | correlation = 0.8710\n",
            "CNT_CHILDREN <--> CNT_FAM_MEMBERS | correlation = 0.8608\n",
            "REG_CITY_NOT_WORK_CITY <--> LIVE_CITY_NOT_WORK_CITY | correlation = 0.8290\n",
            "DEF_30_CNT_SOCIAL_CIRCLE <--> DEF_60_CNT_SOCIAL_CIRCLE | correlation = 0.8260\n",
            "PREV_COUNT <--> APPROVED_STATUS_COUNT | correlation = 0.8258\n",
            "PREV_COUNT <--> Cash loans | correlation = 0.8170\n",
            "APPROVED_STATUS_COUNT <--> Repeater | correlation = 0.8131\n",
            "Cash loans <--> Repeater | correlation = 0.8037\n"
          ]
        }
      ]
    },
    {
      "cell_type": "code",
      "source": [
        "# Cash loans\n",
        "# REG_CITY_NOT_WORK_CITY\n",
        "# XAP\n",
        "\n",
        "# POS\n",
        "# DEF_30_CNT_SOCIAL_CIRCLE\n",
        "# REG_REGION_NOT_WORK_REGION\n",
        "# CNT_CHILDREN\n",
        "# Consumer loans\n",
        "# Revolving loans\n",
        "# REGION_RATING_CLIENT\n",
        "# Repeater\n",
        "# PREV_AVG_AMT_APPLICATION\n",
        "# AMT_GOODS_PRICE\n",
        "# OBS_30_CNT_SOCIAL_CIRCLE\n",
        "# DAYS_EMPLOYED\n",
        "# NAME_INCOME_TYPE_Pensioner\n",
        "\n",
        "# NAME_CONTRACT_TYPE"
      ],
      "metadata": {
        "id": "a0PPQ-dqeUMT"
      },
      "execution_count": null,
      "outputs": []
    },
    {
      "cell_type": "code",
      "source": [
        "cols_to_drop = [\n",
        "    \"Cash loans\", \"REG_CITY_NOT_WORK_CITY\", \"XAP\",\"NAME_CONTRACT_TYPE\", \"POS\", \"DEF_30_CNT_SOCIAL_CIRCLE\",\n",
        "    \"REG_REGION_NOT_WORK_REGION\", \"CNT_CHILDREN\", \"Consumer loans\", \"Revolving loans\",\n",
        "    \"REGION_RATING_CLIENT\", \"Repeater\", \"PREV_AVG_AMT_APPLICATION\", \"AMT_GOODS_PRICE\",\n",
        "    \"OBS_30_CNT_SOCIAL_CIRCLE\", \"DAYS_EMPLOYED\", \"NAME_INCOME_TYPE_Pensioner\"\n",
        "]\n",
        "\n",
        "X_train = X_train.drop(*cols_to_drop)\n",
        "X_test = X_test.drop(*cols_to_drop)"
      ],
      "metadata": {
        "id": "FknT8AYqnXG7"
      },
      "execution_count": null,
      "outputs": []
    },
    {
      "cell_type": "code",
      "source": [
        "print(X_test.count(), len(X_test.columns))"
      ],
      "metadata": {
        "colab": {
          "base_uri": "https://localhost:8080/"
        },
        "id": "vgIzcu6TnaLG",
        "outputId": "e67527b1-2415-404c-82cf-e522136d7305"
      },
      "execution_count": null,
      "outputs": [
        {
          "output_type": "stream",
          "name": "stdout",
          "text": [
            "31619 64\n"
          ]
        }
      ]
    },
    {
      "cell_type": "markdown",
      "source": [
        "## low correlated features with target"
      ],
      "metadata": {
        "id": "BedfApV4xzcN"
      }
    },
    {
      "cell_type": "code",
      "source": [
        "import numpy as np"
      ],
      "metadata": {
        "id": "OZ2FFYE2rx4t"
      },
      "execution_count": null,
      "outputs": []
    },
    {
      "cell_type": "code",
      "source": [
        "from pyspark.sql.functions import monotonically_increasing_id"
      ],
      "metadata": {
        "id": "zucgc_2YsXEr"
      },
      "execution_count": null,
      "outputs": []
    },
    {
      "cell_type": "code",
      "source": [
        "numeric_cols = [field.name for field in X_train.schema.fields if isinstance(field.dataType, DoubleType)]\n",
        "\n",
        "\n",
        "X_train = X_train.withColumn(\"row_id\", monotonically_increasing_id())\n",
        "y_train = y_train.withColumn(\"row_id\", monotonically_increasing_id())\n",
        "\n",
        "\n",
        "Xy_train = X_train.join(y_train, on=\"row_id\", how=\"inner\")\n",
        "\n",
        "\n",
        "Xy_train = Xy_train.drop(\"row_id\")\n",
        "\n",
        "\n",
        "numeric_cols = [field.name for field in X_train.schema.fields if isinstance(field.dataType, DoubleType)]\n",
        "numeric_cols.append(\"TARGET\")\n",
        "\n",
        "\n",
        "assembler = VectorAssembler(inputCols=numeric_cols, outputCol=\"features_vec\")\n",
        "df_vector = assembler.transform(Xy_train).select(\"features_vec\")\n",
        "\n",
        "\n",
        "correlation_matrix = Correlation.corr(df_vector, \"features_vec\", \"pearson\").head()[0]\n",
        "corr_array = np.array(correlation_matrix.toArray())\n",
        "\n",
        "target_corr = corr_array[:-1, -1]\n",
        "\n",
        "low_corr_features = []\n",
        "for feature, corr in zip(numeric_cols[:-1], target_corr):\n",
        "    if abs(corr) < 0.:\n",
        "        low_corr_features.append((feature, corr))\n",
        "\n",
        "low_corr_features_sorted = sorted(low_corr_features, key=lambda x: abs(x[1]))\n",
        "for feature, corr in low_corr_features_sorted:\n",
        "    print(f\"{feature} | correlation with TARGET = {corr:.4f}\")"
      ],
      "metadata": {
        "id": "3P3CjF9Lnjl-"
      },
      "execution_count": null,
      "outputs": []
    },
    {
      "cell_type": "code",
      "source": [
        "low_corr_features_sorted"
      ],
      "metadata": {
        "colab": {
          "base_uri": "https://localhost:8080/"
        },
        "id": "c82oukRKq0Ql",
        "outputId": "2dd542f9-88ae-4482-9bd9-c27635d8d913"
      },
      "execution_count": null,
      "outputs": [
        {
          "output_type": "execute_result",
          "data": {
            "text/plain": [
              "[]"
            ]
          },
          "metadata": {},
          "execution_count": 61
        }
      ]
    },
    {
      "cell_type": "code",
      "source": [
        "import os\n",
        "import shutil\n",
        "from pathlib import Path\n",
        "\n",
        "current_dir = '/content/drive/MyDrive'\n",
        "data_relative_path = 'Data/splited_data_NoOutliers_featureSelected'\n",
        "\n",
        "output_dir = os.path.join(current_dir, data_relative_path, \"tmp_output\")\n",
        "\n",
        "def save_csv(df, final_csv_path):\n",
        "    # write df into a temporary folder\n",
        "    df.coalesce(1).write.option(\"header\", \"true\").mode(\"overwrite\").csv(output_dir)\n",
        "\n",
        "    # find the generated part file\n",
        "    part_file = next(Path(output_dir).glob(\"part-*.csv\"))\n",
        "\n",
        "    # move and rename\n",
        "    shutil.move(str(part_file), final_csv_path)\n",
        "\n",
        "    shutil.rmtree(output_dir)\n",
        "\n",
        "    return f\"File saved to: {final_csv_path}\"\n",
        "\n",
        "\n",
        "# X_train\n",
        "final_csv_path_X_train = os.path.join(current_dir, data_relative_path, \"X_train.csv\")\n",
        "save_csv(X_train, final_csv_path_X_train)\n",
        "\n",
        "# y_train\n",
        "final_csv_path_y_train = os.path.join(current_dir, data_relative_path, \"y_train.csv\")\n",
        "save_csv(y_train, final_csv_path_y_train)\n",
        "\n",
        "# X_test\n",
        "final_csv_path_X_test = os.path.join(current_dir, data_relative_path, \"X_test.csv\")\n",
        "save_csv(X_test, final_csv_path_X_test)\n",
        "\n",
        "# y_test\n",
        "final_csv_path_y_test = os.path.join(current_dir, data_relative_path, \"y_test.csv\")\n",
        "save_csv(y_test, final_csv_path_y_test)"
      ],
      "metadata": {
        "id": "gRGeIpPJs9Vs",
        "colab": {
          "base_uri": "https://localhost:8080/",
          "height": 36
        },
        "outputId": "a2dc76f5-f827-4df6-e607-eadf9793c2fa"
      },
      "execution_count": null,
      "outputs": [
        {
          "output_type": "execute_result",
          "data": {
            "text/plain": [
              "'File saved to: /content/drive/MyDrive/Data/splited_data/X_train.csv'"
            ],
            "application/vnd.google.colaboratory.intrinsic+json": {
              "type": "string"
            }
          },
          "metadata": {},
          "execution_count": 67
        }
      ]
    }
  ]
}