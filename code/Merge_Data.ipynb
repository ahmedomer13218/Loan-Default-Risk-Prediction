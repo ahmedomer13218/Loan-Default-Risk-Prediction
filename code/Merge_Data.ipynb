{
  "nbformat": 4,
  "nbformat_minor": 0,
  "metadata": {
    "colab": {
      "provenance": []
    },
    "kernelspec": {
      "name": "python3",
      "display_name": "Python 3"
    },
    "language_info": {
      "name": "python"
    }
  },
  "cells": [
    {
      "cell_type": "markdown",
      "source": [
        "# Set Up PySpark"
      ],
      "metadata": {
        "id": "IfZi8o-iMPty"
      }
    },
    {
      "cell_type": "code",
      "execution_count": null,
      "metadata": {
        "colab": {
          "base_uri": "https://localhost:8080/"
        },
        "id": "JkFWDl6AysmT",
        "outputId": "8b37a52e-c4b0-4c50-e98b-c71084353e82"
      },
      "outputs": [
        {
          "output_type": "stream",
          "name": "stdout",
          "text": [
            "Requirement already satisfied: pyspark in /usr/local/lib/python3.11/dist-packages (3.5.5)\n",
            "Requirement already satisfied: py4j==0.10.9.7 in /usr/local/lib/python3.11/dist-packages (from pyspark) (0.10.9.7)\n",
            "Collecting findspark\n",
            "  Downloading findspark-2.0.1-py2.py3-none-any.whl.metadata (352 bytes)\n",
            "Downloading findspark-2.0.1-py2.py3-none-any.whl (4.4 kB)\n",
            "Installing collected packages: findspark\n",
            "Successfully installed findspark-2.0.1\n"
          ]
        }
      ],
      "source": [
        "!pip install pyspark\n",
        "!pip install findspark"
      ]
    },
    {
      "cell_type": "code",
      "source": [
        "import findspark\n",
        "findspark.init()"
      ],
      "metadata": {
        "id": "aZlRk9950rH9"
      },
      "execution_count": null,
      "outputs": []
    },
    {
      "cell_type": "code",
      "source": [
        "from pyspark.sql import SparkSession\n",
        "from pyspark.conf import SparkConf"
      ],
      "metadata": {
        "id": "39lD5twf0xS3"
      },
      "execution_count": null,
      "outputs": []
    },
    {
      "cell_type": "markdown",
      "source": [
        "# Load Data"
      ],
      "metadata": {
        "id": "4aF_2EBKMTD-"
      }
    },
    {
      "cell_type": "code",
      "source": [
        "spark=SparkSession.builder\\\n",
        "    .master(\"local[*]\")\\\n",
        "    .appName(\"Merge_Data\")\\\n",
        "    .getOrCreate()"
      ],
      "metadata": {
        "id": "fP3gEZHo0zDz"
      },
      "execution_count": null,
      "outputs": []
    },
    {
      "cell_type": "code",
      "source": [
        "from google.colab import drive\n",
        "drive.mount('/content/drive')"
      ],
      "metadata": {
        "colab": {
          "base_uri": "https://localhost:8080/"
        },
        "id": "acVdIjW_02Rt",
        "outputId": "5f307685-6456-483e-94b3-a0f6ce32b30f"
      },
      "execution_count": null,
      "outputs": [
        {
          "output_type": "stream",
          "name": "stdout",
          "text": [
            "Mounted at /content/drive\n"
          ]
        }
      ]
    },
    {
      "cell_type": "code",
      "source": [
        "df_curr = spark.read.option(\"header\", \"true\").csv('/content/drive/MyDrive/Data/processed_current_application.csv')"
      ],
      "metadata": {
        "id": "Lkn2zWzS13WA"
      },
      "execution_count": null,
      "outputs": []
    },
    {
      "cell_type": "code",
      "source": [
        "df_prev = spark.read.option(\"header\", \"true\").csv('/content/drive/MyDrive/Data/processed_previous_application.csv')"
      ],
      "metadata": {
        "id": "yYt-NCvb78Pc"
      },
      "execution_count": null,
      "outputs": []
    },
    {
      "cell_type": "code",
      "source": [
        "print(df_curr.count(), len(df_curr.columns))\n",
        "print(df_prev.count(), len(df_prev.columns))"
      ],
      "metadata": {
        "colab": {
          "base_uri": "https://localhost:8080/"
        },
        "id": "VplbmNNo82HY",
        "outputId": "1333d98c-823c-4d21-dbc3-89918a9d42d0"
      },
      "execution_count": null,
      "outputs": [
        {
          "output_type": "stream",
          "name": "stdout",
          "text": [
            "244280 72\n",
            "338857 33\n"
          ]
        }
      ]
    },
    {
      "cell_type": "markdown",
      "source": [
        "# Merge the two Data sets"
      ],
      "metadata": {
        "id": "xHyIXyJ3Mbdt"
      }
    },
    {
      "cell_type": "code",
      "source": [
        "df_merged = df_curr.join(df_prev, on='SK_ID_CURR', how='inner')"
      ],
      "metadata": {
        "id": "rO4MzoS49Pyk"
      },
      "execution_count": null,
      "outputs": []
    },
    {
      "cell_type": "code",
      "source": [
        "print(df_merged.count(), len(df_merged.columns))"
      ],
      "metadata": {
        "colab": {
          "base_uri": "https://localhost:8080/"
        },
        "id": "5XmzKaLv9Sby",
        "outputId": "fedb6d3c-4a40-4e17-fc3c-ee6194890570"
      },
      "execution_count": null,
      "outputs": [
        {
          "output_type": "stream",
          "name": "stdout",
          "text": [
            "232196 104\n"
          ]
        }
      ]
    },
    {
      "cell_type": "markdown",
      "source": [
        "# Clean the Data"
      ],
      "metadata": {
        "id": "XmUcNQcsMi1H"
      }
    },
    {
      "cell_type": "code",
      "source": [
        "from pyspark.sql.functions import countDistinct\n",
        "from pyspark.sql.functions import collect_set\n",
        "from pyspark.sql.functions import col, count, when"
      ],
      "metadata": {
        "id": "sDCrkkMK17xC"
      },
      "execution_count": null,
      "outputs": []
    },
    {
      "cell_type": "code",
      "source": [
        "def clean_data(df, null_threshold=25):\n",
        "    # Get null percentage in each column\n",
        "    total_rows = df.count()\n",
        "    null_perc = df.select([\n",
        "    ( (count(when(col(c).isNull(), c)) / total_rows) * 100 ).alias(c)\n",
        "    for c in df.columns\n",
        "    ])\n",
        "\n",
        "    null_perc_row = null_perc.collect()[0].asDict()\n",
        "\n",
        "    # Decide which columns to drop - threshold\n",
        "    cols_to_drop = [col_name for col_name, perc in null_perc_row.items() if perc > null_threshold]\n",
        "    print(f\"Columns to drop:  {cols_to_drop}\")\n",
        "\n",
        "    # Drop columns with nulls over threshold\n",
        "    data_cleaned = df.drop(*cols_to_drop)\n",
        "    print(f\"Shape after dropping cols: ({data_cleaned.count()}, {len(data_cleaned.columns)})\")\n",
        "\n",
        "    # Drop rows with any nulls\n",
        "    data_cleaned = data_cleaned.dropna()\n",
        "    print(f\"Shape after dropping rows: ({data_cleaned.count()}, {len(data_cleaned.columns)})\")\n",
        "\n",
        "    return data_cleaned"
      ],
      "metadata": {
        "id": "Ym1iNE592Gd7"
      },
      "execution_count": null,
      "outputs": []
    },
    {
      "cell_type": "code",
      "source": [
        "df_merged = clean_data(df_merged)"
      ],
      "metadata": {
        "colab": {
          "base_uri": "https://localhost:8080/"
        },
        "id": "TpRpVkIu214f",
        "outputId": "5368fc80-87b9-4a7b-8fb0-b6e50cf587dd"
      },
      "execution_count": null,
      "outputs": [
        {
          "output_type": "stream",
          "name": "stdout",
          "text": [
            "Columns to drop:  []\n",
            "Shape after dropping cols: (232196, 104)\n",
            "Shape after dropping rows: (232196, 104)\n"
          ]
        }
      ]
    },
    {
      "cell_type": "markdown",
      "source": [
        "# Save the Merged Data"
      ],
      "metadata": {
        "id": "c1foDTZ5MrE5"
      }
    },
    {
      "cell_type": "code",
      "source": [
        "import os\n",
        "import shutil\n",
        "from pathlib import Path\n",
        "# Define your paths\n",
        "current_dir = '/content/drive/MyDrive'\n",
        "data_relative_path = 'Data'\n",
        "output_dir = os.path.join(current_dir, data_relative_path, \"tmp_output\")\n",
        "\n",
        "def save_csv(df, final_csv_path):\n",
        "    # write df into a temporary folder\n",
        "    df.coalesce(1).write.option(\"header\", \"true\").mode(\"overwrite\").csv(output_dir)\n",
        "\n",
        "    # find the generated part file\n",
        "    part_file = next(Path(output_dir).glob(\"part-*.csv\"))\n",
        "\n",
        "    # move and rename\n",
        "    shutil.move(str(part_file), final_csv_path)\n",
        "\n",
        "    # delete the temporary folder\n",
        "    shutil.rmtree(output_dir)\n",
        "\n",
        "    return f\"File saved to: {final_csv_path}\"\n",
        "\n",
        "# Example usage\n",
        "final_csv_path = os.path.join(current_dir, data_relative_path, \"merged_application.csv\")\n",
        "save_csv(df_merged, final_csv_path)"
      ],
      "metadata": {
        "colab": {
          "base_uri": "https://localhost:8080/",
          "height": 36
        },
        "id": "ihZtDFXJ52gB",
        "outputId": "3622312f-27dc-47b7-d612-f9c94161ab4e"
      },
      "execution_count": null,
      "outputs": [
        {
          "output_type": "execute_result",
          "data": {
            "text/plain": [
              "'File saved to: /content/drive/MyDrive/Data/merged_application.csv'"
            ],
            "application/vnd.google.colaboratory.intrinsic+json": {
              "type": "string"
            }
          },
          "metadata": {},
          "execution_count": 16
        }
      ]
    },
    {
      "cell_type": "code",
      "source": [
        "print(df_merged.printSchema())"
      ],
      "metadata": {
        "id": "okMc9K5-357Z",
        "colab": {
          "base_uri": "https://localhost:8080/"
        },
        "outputId": "0ca04885-a925-4c4a-a351-31c8ad0dccda"
      },
      "execution_count": null,
      "outputs": [
        {
          "output_type": "stream",
          "name": "stdout",
          "text": [
            "root\n",
            " |-- SK_ID_CURR: string (nullable = true)\n",
            " |-- TARGET: string (nullable = true)\n",
            " |-- NAME_CONTRACT_TYPE: string (nullable = true)\n",
            " |-- CODE_GENDER: string (nullable = true)\n",
            " |-- FLAG_OWN_CAR: string (nullable = true)\n",
            " |-- FLAG_OWN_REALTY: string (nullable = true)\n",
            " |-- CNT_CHILDREN: string (nullable = true)\n",
            " |-- AMT_INCOME_TOTAL: string (nullable = true)\n",
            " |-- AMT_CREDIT: string (nullable = true)\n",
            " |-- AMT_ANNUITY: string (nullable = true)\n",
            " |-- AMT_GOODS_PRICE: string (nullable = true)\n",
            " |-- NAME_TYPE_SUITE: string (nullable = true)\n",
            " |-- NAME_INCOME_TYPE: string (nullable = true)\n",
            " |-- NAME_EDUCATION_TYPE: string (nullable = true)\n",
            " |-- NAME_FAMILY_STATUS: string (nullable = true)\n",
            " |-- NAME_HOUSING_TYPE: string (nullable = true)\n",
            " |-- REGION_POPULATION_RELATIVE: string (nullable = true)\n",
            " |-- DAYS_BIRTH: string (nullable = true)\n",
            " |-- DAYS_EMPLOYED: string (nullable = true)\n",
            " |-- DAYS_REGISTRATION: string (nullable = true)\n",
            " |-- DAYS_ID_PUBLISH: string (nullable = true)\n",
            " |-- FLAG_MOBIL: string (nullable = true)\n",
            " |-- FLAG_EMP_PHONE: string (nullable = true)\n",
            " |-- FLAG_WORK_PHONE: string (nullable = true)\n",
            " |-- FLAG_CONT_MOBILE: string (nullable = true)\n",
            " |-- FLAG_PHONE: string (nullable = true)\n",
            " |-- FLAG_EMAIL: string (nullable = true)\n",
            " |-- CNT_FAM_MEMBERS: string (nullable = true)\n",
            " |-- REGION_RATING_CLIENT: string (nullable = true)\n",
            " |-- REGION_RATING_CLIENT_W_CITY: string (nullable = true)\n",
            " |-- WEEKDAY_APPR_PROCESS_START: string (nullable = true)\n",
            " |-- HOUR_APPR_PROCESS_START: string (nullable = true)\n",
            " |-- REG_REGION_NOT_LIVE_REGION: string (nullable = true)\n",
            " |-- REG_REGION_NOT_WORK_REGION: string (nullable = true)\n",
            " |-- LIVE_REGION_NOT_WORK_REGION: string (nullable = true)\n",
            " |-- REG_CITY_NOT_LIVE_CITY: string (nullable = true)\n",
            " |-- REG_CITY_NOT_WORK_CITY: string (nullable = true)\n",
            " |-- LIVE_CITY_NOT_WORK_CITY: string (nullable = true)\n",
            " |-- ORGANIZATION_TYPE: string (nullable = true)\n",
            " |-- EXT_SOURCE_2: string (nullable = true)\n",
            " |-- EXT_SOURCE_3: string (nullable = true)\n",
            " |-- OBS_30_CNT_SOCIAL_CIRCLE: string (nullable = true)\n",
            " |-- DEF_30_CNT_SOCIAL_CIRCLE: string (nullable = true)\n",
            " |-- OBS_60_CNT_SOCIAL_CIRCLE: string (nullable = true)\n",
            " |-- DEF_60_CNT_SOCIAL_CIRCLE: string (nullable = true)\n",
            " |-- DAYS_LAST_PHONE_CHANGE: string (nullable = true)\n",
            " |-- FLAG_DOCUMENT_2: string (nullable = true)\n",
            " |-- FLAG_DOCUMENT_3: string (nullable = true)\n",
            " |-- FLAG_DOCUMENT_4: string (nullable = true)\n",
            " |-- FLAG_DOCUMENT_5: string (nullable = true)\n",
            " |-- FLAG_DOCUMENT_6: string (nullable = true)\n",
            " |-- FLAG_DOCUMENT_7: string (nullable = true)\n",
            " |-- FLAG_DOCUMENT_8: string (nullable = true)\n",
            " |-- FLAG_DOCUMENT_9: string (nullable = true)\n",
            " |-- FLAG_DOCUMENT_10: string (nullable = true)\n",
            " |-- FLAG_DOCUMENT_11: string (nullable = true)\n",
            " |-- FLAG_DOCUMENT_12: string (nullable = true)\n",
            " |-- FLAG_DOCUMENT_13: string (nullable = true)\n",
            " |-- FLAG_DOCUMENT_14: string (nullable = true)\n",
            " |-- FLAG_DOCUMENT_15: string (nullable = true)\n",
            " |-- FLAG_DOCUMENT_16: string (nullable = true)\n",
            " |-- FLAG_DOCUMENT_17: string (nullable = true)\n",
            " |-- FLAG_DOCUMENT_18: string (nullable = true)\n",
            " |-- FLAG_DOCUMENT_19: string (nullable = true)\n",
            " |-- FLAG_DOCUMENT_20: string (nullable = true)\n",
            " |-- FLAG_DOCUMENT_21: string (nullable = true)\n",
            " |-- AMT_REQ_CREDIT_BUREAU_HOUR: string (nullable = true)\n",
            " |-- AMT_REQ_CREDIT_BUREAU_DAY: string (nullable = true)\n",
            " |-- AMT_REQ_CREDIT_BUREAU_WEEK: string (nullable = true)\n",
            " |-- AMT_REQ_CREDIT_BUREAU_MON: string (nullable = true)\n",
            " |-- AMT_REQ_CREDIT_BUREAU_QRT: string (nullable = true)\n",
            " |-- AMT_REQ_CREDIT_BUREAU_YEAR: string (nullable = true)\n",
            " |-- PREV_COUNT: string (nullable = true)\n",
            " |-- PREV_AVG_AMT_ANNUITY: string (nullable = true)\n",
            " |-- PREV_AVG_AMT_APPLICATION: string (nullable = true)\n",
            " |-- PREV_AVG_AMT_CREDIT: string (nullable = true)\n",
            " |-- PREV_AVG_GOODS_APP_RATIO: string (nullable = true)\n",
            " |-- PREV_AVG_DAYS_DECISION: string (nullable = true)\n",
            " |-- PREV_AVG_CNT_PAYMENT: string (nullable = true)\n",
            " |-- PREV_AVG_HOUR_APPR_PROCESS_START: string (nullable = true)\n",
            " |-- REFUSED_STATUS_COUNT: string (nullable = true)\n",
            " |-- APPROVED_STATUS_COUNT: string (nullable = true)\n",
            " |-- Consumer loans: string (nullable = true)\n",
            " |-- Revolving loans: string (nullable = true)\n",
            " |-- Cash loans: string (nullable = true)\n",
            " |-- XAP: string (nullable = true)\n",
            " |-- HC: string (nullable = true)\n",
            " |-- LIMIT: string (nullable = true)\n",
            " |-- Refreshed: string (nullable = true)\n",
            " |-- Repeater: string (nullable = true)\n",
            " |-- POS: string (nullable = true)\n",
            " |-- Cash_x: string (nullable = true)\n",
            " |-- Cards: string (nullable = true)\n",
            " |-- Credit and cash offices: string (nullable = true)\n",
            " |-- Country-wide: string (nullable = true)\n",
            " |-- Stone: string (nullable = true)\n",
            " |-- Cash: string (nullable = true)\n",
            " |-- POS household with interest: string (nullable = true)\n",
            " |-- POS mobile with interest: string (nullable = true)\n",
            " |-- ZERO_NFLAG_LAST_APPL_IN_DAY: string (nullable = true)\n",
            " |-- ZERO_FLAG_LAST_APPL_PER_CONTRACT: string (nullable = true)\n",
            " |-- XAP_NAME_CASH_LOAN_PURPOSE: string (nullable = true)\n",
            " |-- Other_NAME_CASH_LOAN_PURPOSE: string (nullable = true)\n",
            " |-- PREV_AVG_NAME_YIELD_GROUP: string (nullable = true)\n",
            "\n",
            "None\n"
          ]
        }
      ]
    },
    {
      "cell_type": "code",
      "source": [],
      "metadata": {
        "id": "1qLCvZkn_BNo"
      },
      "execution_count": null,
      "outputs": []
    }
  ]
}